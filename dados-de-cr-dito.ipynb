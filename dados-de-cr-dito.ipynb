{
 "cells": [
  {
   "cell_type": "markdown",
   "id": "8f29b4a8",
   "metadata": {
    "papermill": {
     "duration": 0.014234,
     "end_time": "2024-02-07T17:17:31.862914",
     "exception": false,
     "start_time": "2024-02-07T17:17:31.848680",
     "status": "completed"
    },
    "tags": []
   },
   "source": [
    "# **Análise de Dados de crédito.**"
   ]
  },
  {
   "cell_type": "markdown",
   "id": "b54196a5",
   "metadata": {
    "papermill": {
     "duration": 0.012975,
     "end_time": "2024-02-07T17:17:31.890364",
     "exception": false,
     "start_time": "2024-02-07T17:17:31.877389",
     "status": "completed"
    },
    "tags": []
   },
   "source": [
    "Uma instituição financeira está interessada em levantar os dados dos clientes que estão inadimplentes e adimplentes.\n",
    "Nesse caso, precisamos levantar os dados para entregar os motivos do cliente não honrar com suas dívidas, puxando análises por meio de informações como salário, escolaridade e movimentação financeira."
   ]
  },
  {
   "cell_type": "markdown",
   "id": "59bc4292",
   "metadata": {
    "papermill": {
     "duration": 0.012956,
     "end_time": "2024-02-07T17:17:31.917245",
     "exception": false,
     "start_time": "2024-02-07T17:17:31.904289",
     "status": "completed"
    },
    "tags": []
   },
   "source": [
    "# Importação de Bibliotecas"
   ]
  },
  {
   "cell_type": "markdown",
   "id": "b52f549a",
   "metadata": {
    "_cell_guid": "b1076dfc-b9ad-4769-8c92-a6c4dae69d19",
    "_uuid": "8f2839f25d086af736a60e9eeb907d3b93b6e0e5",
    "papermill": {
     "duration": 0.012912,
     "end_time": "2024-02-07T17:17:31.943561",
     "exception": false,
     "start_time": "2024-02-07T17:17:31.930649",
     "status": "completed"
    },
    "tags": []
   },
   "source": [
    "Em primeiro lugar, precisamos importar todos os recursos e bibliotecas do Python que usaremos nesta análise."
   ]
  },
  {
   "cell_type": "code",
   "execution_count": 1,
   "id": "5d3d78b6",
   "metadata": {
    "execution": {
     "iopub.execute_input": "2024-02-07T17:17:31.971651Z",
     "iopub.status.busy": "2024-02-07T17:17:31.971333Z",
     "iopub.status.idle": "2024-02-07T17:17:33.768057Z",
     "shell.execute_reply": "2024-02-07T17:17:33.766988Z"
    },
    "papermill": {
     "duration": 1.81346,
     "end_time": "2024-02-07T17:17:33.770187",
     "exception": false,
     "start_time": "2024-02-07T17:17:31.956727",
     "status": "completed"
    },
    "tags": []
   },
   "outputs": [],
   "source": [
    "import pandas as pd\n",
    "import seaborn as sns\n",
    "import matplotlib.pyplot as plt"
   ]
  },
  {
   "cell_type": "markdown",
   "id": "2267b209",
   "metadata": {
    "papermill": {
     "duration": 0.013399,
     "end_time": "2024-02-07T17:17:33.797535",
     "exception": false,
     "start_time": "2024-02-07T17:17:33.784136",
     "status": "completed"
    },
    "tags": []
   },
   "source": [
    "# Exploração de Dados"
   ]
  },
  {
   "cell_type": "markdown",
   "id": "48486425",
   "metadata": {
    "papermill": {
     "duration": 0.012941,
     "end_time": "2024-02-07T17:17:33.823550",
     "exception": false,
     "start_time": "2024-02-07T17:17:33.810609",
     "status": "completed"
    },
    "tags": []
   },
   "source": [
    "Com as bibliotecas importadas, precisamos ler a base de dados (que está em formato .csv) usando um recurso da biblioteca Pandas"
   ]
  },
  {
   "cell_type": "code",
   "execution_count": 2,
   "id": "c016af55",
   "metadata": {
    "execution": {
     "iopub.execute_input": "2024-02-07T17:17:33.895550Z",
     "iopub.status.busy": "2024-02-07T17:17:33.894908Z",
     "iopub.status.idle": "2024-02-07T17:17:34.203869Z",
     "shell.execute_reply": "2024-02-07T17:17:34.203231Z"
    },
    "papermill": {
     "duration": 0.369152,
     "end_time": "2024-02-07T17:17:34.205928",
     "exception": false,
     "start_time": "2024-02-07T17:17:33.836776",
     "status": "completed"
    },
    "tags": []
   },
   "outputs": [],
   "source": [
    "df = pd.read_csv('https://raw.githubusercontent.com/fabio-stampone/EBAC/main/Python_M10_support%20material.csv', na_values = 'na')"
   ]
  },
  {
   "cell_type": "markdown",
   "id": "7de3f645",
   "metadata": {
    "papermill": {
     "duration": 0.013643,
     "end_time": "2024-02-07T17:17:34.233562",
     "exception": false,
     "start_time": "2024-02-07T17:17:34.219919",
     "status": "completed"
    },
    "tags": []
   },
   "source": [
    "Para ter certeza de que puxamos a base de dados corretamente, iremos realizar uma chamada das primeiras 10 linhas de informação."
   ]
  },
  {
   "cell_type": "code",
   "execution_count": 3,
   "id": "f2d6a9ce",
   "metadata": {
    "execution": {
     "iopub.execute_input": "2024-02-07T17:17:34.263288Z",
     "iopub.status.busy": "2024-02-07T17:17:34.262728Z",
     "iopub.status.idle": "2024-02-07T17:17:34.289342Z",
     "shell.execute_reply": "2024-02-07T17:17:34.288481Z"
    },
    "papermill": {
     "duration": 0.043712,
     "end_time": "2024-02-07T17:17:34.291125",
     "exception": false,
     "start_time": "2024-02-07T17:17:34.247413",
     "status": "completed"
    },
    "tags": []
   },
   "outputs": [
    {
     "data": {
      "text/html": [
       "<div>\n",
       "<style scoped>\n",
       "    .dataframe tbody tr th:only-of-type {\n",
       "        vertical-align: middle;\n",
       "    }\n",
       "\n",
       "    .dataframe tbody tr th {\n",
       "        vertical-align: top;\n",
       "    }\n",
       "\n",
       "    .dataframe thead th {\n",
       "        text-align: right;\n",
       "    }\n",
       "</style>\n",
       "<table border=\"1\" class=\"dataframe\">\n",
       "  <thead>\n",
       "    <tr style=\"text-align: right;\">\n",
       "      <th></th>\n",
       "      <th>id</th>\n",
       "      <th>default</th>\n",
       "      <th>idade</th>\n",
       "      <th>sexo</th>\n",
       "      <th>dependentes</th>\n",
       "      <th>escolaridade</th>\n",
       "      <th>estado_civil</th>\n",
       "      <th>salario_anual</th>\n",
       "      <th>tipo_cartao</th>\n",
       "      <th>meses_de_relacionamento</th>\n",
       "      <th>qtd_produtos</th>\n",
       "      <th>iteracoes_12m</th>\n",
       "      <th>meses_inativo_12m</th>\n",
       "      <th>limite_credito</th>\n",
       "      <th>valor_transacoes_12m</th>\n",
       "      <th>qtd_transacoes_12m</th>\n",
       "    </tr>\n",
       "  </thead>\n",
       "  <tbody>\n",
       "    <tr>\n",
       "      <th>0</th>\n",
       "      <td>768805383</td>\n",
       "      <td>0</td>\n",
       "      <td>45</td>\n",
       "      <td>M</td>\n",
       "      <td>3</td>\n",
       "      <td>ensino medio</td>\n",
       "      <td>casado</td>\n",
       "      <td>$60K - $80K</td>\n",
       "      <td>blue</td>\n",
       "      <td>39</td>\n",
       "      <td>5</td>\n",
       "      <td>3</td>\n",
       "      <td>1</td>\n",
       "      <td>12.691,51</td>\n",
       "      <td>1.144,90</td>\n",
       "      <td>42</td>\n",
       "    </tr>\n",
       "    <tr>\n",
       "      <th>1</th>\n",
       "      <td>818770008</td>\n",
       "      <td>0</td>\n",
       "      <td>49</td>\n",
       "      <td>F</td>\n",
       "      <td>5</td>\n",
       "      <td>mestrado</td>\n",
       "      <td>solteiro</td>\n",
       "      <td>menos que $40K</td>\n",
       "      <td>blue</td>\n",
       "      <td>44</td>\n",
       "      <td>6</td>\n",
       "      <td>2</td>\n",
       "      <td>1</td>\n",
       "      <td>8.256,96</td>\n",
       "      <td>1.291,45</td>\n",
       "      <td>33</td>\n",
       "    </tr>\n",
       "    <tr>\n",
       "      <th>2</th>\n",
       "      <td>713982108</td>\n",
       "      <td>0</td>\n",
       "      <td>51</td>\n",
       "      <td>M</td>\n",
       "      <td>3</td>\n",
       "      <td>mestrado</td>\n",
       "      <td>casado</td>\n",
       "      <td>$80K - $120K</td>\n",
       "      <td>blue</td>\n",
       "      <td>36</td>\n",
       "      <td>4</td>\n",
       "      <td>0</td>\n",
       "      <td>1</td>\n",
       "      <td>3.418,56</td>\n",
       "      <td>1.887,72</td>\n",
       "      <td>20</td>\n",
       "    </tr>\n",
       "    <tr>\n",
       "      <th>3</th>\n",
       "      <td>769911858</td>\n",
       "      <td>0</td>\n",
       "      <td>40</td>\n",
       "      <td>F</td>\n",
       "      <td>4</td>\n",
       "      <td>ensino medio</td>\n",
       "      <td>NaN</td>\n",
       "      <td>menos que $40K</td>\n",
       "      <td>blue</td>\n",
       "      <td>34</td>\n",
       "      <td>3</td>\n",
       "      <td>1</td>\n",
       "      <td>4</td>\n",
       "      <td>3.313,03</td>\n",
       "      <td>1.171,56</td>\n",
       "      <td>20</td>\n",
       "    </tr>\n",
       "    <tr>\n",
       "      <th>4</th>\n",
       "      <td>709106358</td>\n",
       "      <td>0</td>\n",
       "      <td>40</td>\n",
       "      <td>M</td>\n",
       "      <td>3</td>\n",
       "      <td>sem educacao formal</td>\n",
       "      <td>casado</td>\n",
       "      <td>$60K - $80K</td>\n",
       "      <td>blue</td>\n",
       "      <td>21</td>\n",
       "      <td>5</td>\n",
       "      <td>0</td>\n",
       "      <td>1</td>\n",
       "      <td>4.716,22</td>\n",
       "      <td>816,08</td>\n",
       "      <td>28</td>\n",
       "    </tr>\n",
       "    <tr>\n",
       "      <th>5</th>\n",
       "      <td>713061558</td>\n",
       "      <td>0</td>\n",
       "      <td>44</td>\n",
       "      <td>M</td>\n",
       "      <td>2</td>\n",
       "      <td>mestrado</td>\n",
       "      <td>casado</td>\n",
       "      <td>$40K - $60K</td>\n",
       "      <td>blue</td>\n",
       "      <td>36</td>\n",
       "      <td>3</td>\n",
       "      <td>2</td>\n",
       "      <td>1</td>\n",
       "      <td>4.010,69</td>\n",
       "      <td>1.088,07</td>\n",
       "      <td>24</td>\n",
       "    </tr>\n",
       "    <tr>\n",
       "      <th>6</th>\n",
       "      <td>810347208</td>\n",
       "      <td>0</td>\n",
       "      <td>51</td>\n",
       "      <td>M</td>\n",
       "      <td>4</td>\n",
       "      <td>NaN</td>\n",
       "      <td>casado</td>\n",
       "      <td>$120K +</td>\n",
       "      <td>gold</td>\n",
       "      <td>46</td>\n",
       "      <td>6</td>\n",
       "      <td>3</td>\n",
       "      <td>1</td>\n",
       "      <td>34.516,72</td>\n",
       "      <td>1.330,87</td>\n",
       "      <td>31</td>\n",
       "    </tr>\n",
       "    <tr>\n",
       "      <th>7</th>\n",
       "      <td>818906208</td>\n",
       "      <td>0</td>\n",
       "      <td>32</td>\n",
       "      <td>M</td>\n",
       "      <td>0</td>\n",
       "      <td>ensino medio</td>\n",
       "      <td>NaN</td>\n",
       "      <td>$60K - $80K</td>\n",
       "      <td>silver</td>\n",
       "      <td>27</td>\n",
       "      <td>2</td>\n",
       "      <td>2</td>\n",
       "      <td>2</td>\n",
       "      <td>29.081,49</td>\n",
       "      <td>1.538,32</td>\n",
       "      <td>36</td>\n",
       "    </tr>\n",
       "    <tr>\n",
       "      <th>8</th>\n",
       "      <td>710930508</td>\n",
       "      <td>0</td>\n",
       "      <td>37</td>\n",
       "      <td>M</td>\n",
       "      <td>3</td>\n",
       "      <td>sem educacao formal</td>\n",
       "      <td>solteiro</td>\n",
       "      <td>$60K - $80K</td>\n",
       "      <td>blue</td>\n",
       "      <td>36</td>\n",
       "      <td>5</td>\n",
       "      <td>0</td>\n",
       "      <td>2</td>\n",
       "      <td>22.352,50</td>\n",
       "      <td>1.350,14</td>\n",
       "      <td>24</td>\n",
       "    </tr>\n",
       "    <tr>\n",
       "      <th>9</th>\n",
       "      <td>719661558</td>\n",
       "      <td>0</td>\n",
       "      <td>48</td>\n",
       "      <td>M</td>\n",
       "      <td>2</td>\n",
       "      <td>mestrado</td>\n",
       "      <td>solteiro</td>\n",
       "      <td>$80K - $120K</td>\n",
       "      <td>blue</td>\n",
       "      <td>36</td>\n",
       "      <td>6</td>\n",
       "      <td>3</td>\n",
       "      <td>3</td>\n",
       "      <td>11.656,41</td>\n",
       "      <td>1.441,73</td>\n",
       "      <td>32</td>\n",
       "    </tr>\n",
       "  </tbody>\n",
       "</table>\n",
       "</div>"
      ],
      "text/plain": [
       "          id  default  idade sexo  dependentes         escolaridade  \\\n",
       "0  768805383        0     45    M            3         ensino medio   \n",
       "1  818770008        0     49    F            5             mestrado   \n",
       "2  713982108        0     51    M            3             mestrado   \n",
       "3  769911858        0     40    F            4         ensino medio   \n",
       "4  709106358        0     40    M            3  sem educacao formal   \n",
       "5  713061558        0     44    M            2             mestrado   \n",
       "6  810347208        0     51    M            4                  NaN   \n",
       "7  818906208        0     32    M            0         ensino medio   \n",
       "8  710930508        0     37    M            3  sem educacao formal   \n",
       "9  719661558        0     48    M            2             mestrado   \n",
       "\n",
       "  estado_civil   salario_anual tipo_cartao  meses_de_relacionamento  \\\n",
       "0       casado     $60K - $80K        blue                       39   \n",
       "1     solteiro  menos que $40K        blue                       44   \n",
       "2       casado    $80K - $120K        blue                       36   \n",
       "3          NaN  menos que $40K        blue                       34   \n",
       "4       casado     $60K - $80K        blue                       21   \n",
       "5       casado     $40K - $60K        blue                       36   \n",
       "6       casado         $120K +        gold                       46   \n",
       "7          NaN     $60K - $80K      silver                       27   \n",
       "8     solteiro     $60K - $80K        blue                       36   \n",
       "9     solteiro    $80K - $120K        blue                       36   \n",
       "\n",
       "   qtd_produtos  iteracoes_12m  meses_inativo_12m limite_credito  \\\n",
       "0             5              3                  1      12.691,51   \n",
       "1             6              2                  1       8.256,96   \n",
       "2             4              0                  1       3.418,56   \n",
       "3             3              1                  4       3.313,03   \n",
       "4             5              0                  1       4.716,22   \n",
       "5             3              2                  1       4.010,69   \n",
       "6             6              3                  1      34.516,72   \n",
       "7             2              2                  2      29.081,49   \n",
       "8             5              0                  2      22.352,50   \n",
       "9             6              3                  3      11.656,41   \n",
       "\n",
       "  valor_transacoes_12m  qtd_transacoes_12m  \n",
       "0             1.144,90                  42  \n",
       "1             1.291,45                  33  \n",
       "2             1.887,72                  20  \n",
       "3             1.171,56                  20  \n",
       "4               816,08                  28  \n",
       "5             1.088,07                  24  \n",
       "6             1.330,87                  31  \n",
       "7             1.538,32                  36  \n",
       "8             1.350,14                  24  \n",
       "9             1.441,73                  32  "
      ]
     },
     "execution_count": 3,
     "metadata": {},
     "output_type": "execute_result"
    }
   ],
   "source": [
    "df.head(n=10)"
   ]
  },
  {
   "cell_type": "markdown",
   "id": "c699e3bf",
   "metadata": {
    "papermill": {
     "duration": 0.014219,
     "end_time": "2024-02-07T17:17:34.319988",
     "exception": false,
     "start_time": "2024-02-07T17:17:34.305769",
     "status": "completed"
    },
    "tags": []
   },
   "source": [
    "Na base de dados, temos uma coluna chamada \"default\". Através dos dados dessa coluna, iremos definir se o cliente é adimplente(default = 0) ou inadimplente (default = 1)"
   ]
  },
  {
   "cell_type": "markdown",
   "id": "4ba1f44f",
   "metadata": {
    "papermill": {
     "duration": 0.013949,
     "end_time": "2024-02-07T17:17:34.348240",
     "exception": false,
     "start_time": "2024-02-07T17:17:34.334291",
     "status": "completed"
    },
    "tags": []
   },
   "source": [
    "# Estrutura"
   ]
  },
  {
   "cell_type": "markdown",
   "id": "95a7a42f",
   "metadata": {
    "papermill": {
     "duration": 0.014079,
     "end_time": "2024-02-07T17:17:34.376649",
     "exception": false,
     "start_time": "2024-02-07T17:17:34.362570",
     "status": "completed"
    },
    "tags": []
   },
   "source": [
    "Conforme exibido, os dados foram puxados com sucesso.\n",
    "Vamos usar um comando que irá nos retornar a quantidade de linhas e culunas "
   ]
  },
  {
   "cell_type": "code",
   "execution_count": 4,
   "id": "e364b555",
   "metadata": {
    "execution": {
     "iopub.execute_input": "2024-02-07T17:17:34.407216Z",
     "iopub.status.busy": "2024-02-07T17:17:34.406702Z",
     "iopub.status.idle": "2024-02-07T17:17:34.412023Z",
     "shell.execute_reply": "2024-02-07T17:17:34.411290Z"
    },
    "papermill": {
     "duration": 0.022661,
     "end_time": "2024-02-07T17:17:34.413713",
     "exception": false,
     "start_time": "2024-02-07T17:17:34.391052",
     "status": "completed"
    },
    "tags": []
   },
   "outputs": [
    {
     "data": {
      "text/plain": [
       "(10127, 16)"
      ]
     },
     "execution_count": 4,
     "metadata": {},
     "output_type": "execute_result"
    }
   ],
   "source": [
    "df.shape"
   ]
  },
  {
   "cell_type": "markdown",
   "id": "625ddbaf",
   "metadata": {
    "papermill": {
     "duration": 0.01441,
     "end_time": "2024-02-07T17:17:34.442667",
     "exception": false,
     "start_time": "2024-02-07T17:17:34.428257",
     "status": "completed"
    },
    "tags": []
   },
   "source": [
    "Podemos aplicar um filtro para verificar a quantidade de clientes que estão adimplentes"
   ]
  },
  {
   "cell_type": "code",
   "execution_count": 5,
   "id": "1b3d6e72",
   "metadata": {
    "execution": {
     "iopub.execute_input": "2024-02-07T17:17:34.473259Z",
     "iopub.status.busy": "2024-02-07T17:17:34.472779Z",
     "iopub.status.idle": "2024-02-07T17:17:34.484567Z",
     "shell.execute_reply": "2024-02-07T17:17:34.483713Z"
    },
    "papermill": {
     "duration": 0.028991,
     "end_time": "2024-02-07T17:17:34.486224",
     "exception": false,
     "start_time": "2024-02-07T17:17:34.457233",
     "status": "completed"
    },
    "tags": []
   },
   "outputs": [
    {
     "data": {
      "text/plain": [
       "(8500, 16)"
      ]
     },
     "execution_count": 5,
     "metadata": {},
     "output_type": "execute_result"
    }
   ],
   "source": [
    "df[df['default'] == 0].shape"
   ]
  },
  {
   "cell_type": "markdown",
   "id": "0047dac3",
   "metadata": {
    "papermill": {
     "duration": 0.014201,
     "end_time": "2024-02-07T17:17:34.515042",
     "exception": false,
     "start_time": "2024-02-07T17:17:34.500841",
     "status": "completed"
    },
    "tags": []
   },
   "source": [
    "Também faremos o mesmo para os clientes inadimplentes"
   ]
  },
  {
   "cell_type": "code",
   "execution_count": 6,
   "id": "7c875090",
   "metadata": {
    "execution": {
     "iopub.execute_input": "2024-02-07T17:17:34.544818Z",
     "iopub.status.busy": "2024-02-07T17:17:34.544305Z",
     "iopub.status.idle": "2024-02-07T17:17:34.550679Z",
     "shell.execute_reply": "2024-02-07T17:17:34.549887Z"
    },
    "papermill": {
     "duration": 0.023021,
     "end_time": "2024-02-07T17:17:34.552272",
     "exception": false,
     "start_time": "2024-02-07T17:17:34.529251",
     "status": "completed"
    },
    "tags": []
   },
   "outputs": [
    {
     "data": {
      "text/plain": [
       "(1627, 16)"
      ]
     },
     "execution_count": 6,
     "metadata": {},
     "output_type": "execute_result"
    }
   ],
   "source": [
    "df[df['default'] == 1].shape"
   ]
  },
  {
   "cell_type": "markdown",
   "id": "a32e2f9a",
   "metadata": {
    "papermill": {
     "duration": 0.013821,
     "end_time": "2024-02-07T17:17:34.580482",
     "exception": false,
     "start_time": "2024-02-07T17:17:34.566661",
     "status": "completed"
    },
    "tags": []
   },
   "source": [
    "Podemos levantar os dados gerais da quantidade total de pessoas, e das divisões entre adimplentes e inadimplentes."
   ]
  },
  {
   "cell_type": "code",
   "execution_count": 7,
   "id": "9ca798fd",
   "metadata": {
    "execution": {
     "iopub.execute_input": "2024-02-07T17:17:34.610148Z",
     "iopub.status.busy": "2024-02-07T17:17:34.609802Z",
     "iopub.status.idle": "2024-02-07T17:17:34.616679Z",
     "shell.execute_reply": "2024-02-07T17:17:34.615998Z"
    },
    "papermill": {
     "duration": 0.024073,
     "end_time": "2024-02-07T17:17:34.618411",
     "exception": false,
     "start_time": "2024-02-07T17:17:34.594338",
     "status": "completed"
    },
    "tags": []
   },
   "outputs": [],
   "source": [
    "qtd_total, _ = df.shape\n",
    "qtd_adimplentes, _ = df[df['default'] == 0].shape\n",
    "qtd_inadimplentes, _ = df[df['default'] == 1].shape"
   ]
  },
  {
   "cell_type": "code",
   "execution_count": 8,
   "id": "a47e9b85",
   "metadata": {
    "execution": {
     "iopub.execute_input": "2024-02-07T17:17:34.648988Z",
     "iopub.status.busy": "2024-02-07T17:17:34.648675Z",
     "iopub.status.idle": "2024-02-07T17:17:34.653504Z",
     "shell.execute_reply": "2024-02-07T17:17:34.652645Z"
    },
    "papermill": {
     "duration": 0.022334,
     "end_time": "2024-02-07T17:17:34.655549",
     "exception": false,
     "start_time": "2024-02-07T17:17:34.633215",
     "status": "completed"
    },
    "tags": []
   },
   "outputs": [
    {
     "name": "stdout",
     "output_type": "stream",
     "text": [
      "A proporcão clientes adimplentes é de 83.93%\n",
      "A proporcão clientes inadimplentes é de 16.07%\n"
     ]
    }
   ],
   "source": [
    "print(f\"A proporcão clientes adimplentes é de \" + \\\n",
    " f\"{round(100 * qtd_adimplentes / qtd_total, 2)}%\"\n",
    " )\n",
    "print(f\"A proporcão clientes inadimplentes é de \" + \\\n",
    " f\"{round(100 * qtd_inadimplentes / qtd_total, 2)}%\"\n",
    " )"
   ]
  },
  {
   "cell_type": "markdown",
   "id": "0e4ddcc8",
   "metadata": {
    "papermill": {
     "duration": 0.013829,
     "end_time": "2024-02-07T17:17:34.683572",
     "exception": false,
     "start_time": "2024-02-07T17:17:34.669743",
     "status": "completed"
    },
    "tags": []
   },
   "source": [
    "# Esquema de dados"
   ]
  },
  {
   "cell_type": "code",
   "execution_count": 9,
   "id": "d35ff67f",
   "metadata": {
    "execution": {
     "iopub.execute_input": "2024-02-07T17:17:34.713616Z",
     "iopub.status.busy": "2024-02-07T17:17:34.713287Z",
     "iopub.status.idle": "2024-02-07T17:17:34.727573Z",
     "shell.execute_reply": "2024-02-07T17:17:34.726900Z"
    },
    "papermill": {
     "duration": 0.031553,
     "end_time": "2024-02-07T17:17:34.729205",
     "exception": false,
     "start_time": "2024-02-07T17:17:34.697652",
     "status": "completed"
    },
    "tags": []
   },
   "outputs": [
    {
     "data": {
      "text/html": [
       "<div>\n",
       "<style scoped>\n",
       "    .dataframe tbody tr th:only-of-type {\n",
       "        vertical-align: middle;\n",
       "    }\n",
       "\n",
       "    .dataframe tbody tr th {\n",
       "        vertical-align: top;\n",
       "    }\n",
       "\n",
       "    .dataframe thead th {\n",
       "        text-align: right;\n",
       "    }\n",
       "</style>\n",
       "<table border=\"1\" class=\"dataframe\">\n",
       "  <thead>\n",
       "    <tr style=\"text-align: right;\">\n",
       "      <th></th>\n",
       "      <th>id</th>\n",
       "      <th>default</th>\n",
       "      <th>idade</th>\n",
       "      <th>sexo</th>\n",
       "      <th>dependentes</th>\n",
       "      <th>escolaridade</th>\n",
       "      <th>estado_civil</th>\n",
       "      <th>salario_anual</th>\n",
       "      <th>tipo_cartao</th>\n",
       "      <th>meses_de_relacionamento</th>\n",
       "      <th>qtd_produtos</th>\n",
       "      <th>iteracoes_12m</th>\n",
       "      <th>meses_inativo_12m</th>\n",
       "      <th>limite_credito</th>\n",
       "      <th>valor_transacoes_12m</th>\n",
       "      <th>qtd_transacoes_12m</th>\n",
       "    </tr>\n",
       "  </thead>\n",
       "  <tbody>\n",
       "    <tr>\n",
       "      <th>0</th>\n",
       "      <td>768805383</td>\n",
       "      <td>0</td>\n",
       "      <td>45</td>\n",
       "      <td>M</td>\n",
       "      <td>3</td>\n",
       "      <td>ensino medio</td>\n",
       "      <td>casado</td>\n",
       "      <td>$60K - $80K</td>\n",
       "      <td>blue</td>\n",
       "      <td>39</td>\n",
       "      <td>5</td>\n",
       "      <td>3</td>\n",
       "      <td>1</td>\n",
       "      <td>12.691,51</td>\n",
       "      <td>1.144,90</td>\n",
       "      <td>42</td>\n",
       "    </tr>\n",
       "    <tr>\n",
       "      <th>1</th>\n",
       "      <td>818770008</td>\n",
       "      <td>0</td>\n",
       "      <td>49</td>\n",
       "      <td>F</td>\n",
       "      <td>5</td>\n",
       "      <td>mestrado</td>\n",
       "      <td>solteiro</td>\n",
       "      <td>menos que $40K</td>\n",
       "      <td>blue</td>\n",
       "      <td>44</td>\n",
       "      <td>6</td>\n",
       "      <td>2</td>\n",
       "      <td>1</td>\n",
       "      <td>8.256,96</td>\n",
       "      <td>1.291,45</td>\n",
       "      <td>33</td>\n",
       "    </tr>\n",
       "    <tr>\n",
       "      <th>2</th>\n",
       "      <td>713982108</td>\n",
       "      <td>0</td>\n",
       "      <td>51</td>\n",
       "      <td>M</td>\n",
       "      <td>3</td>\n",
       "      <td>mestrado</td>\n",
       "      <td>casado</td>\n",
       "      <td>$80K - $120K</td>\n",
       "      <td>blue</td>\n",
       "      <td>36</td>\n",
       "      <td>4</td>\n",
       "      <td>0</td>\n",
       "      <td>1</td>\n",
       "      <td>3.418,56</td>\n",
       "      <td>1.887,72</td>\n",
       "      <td>20</td>\n",
       "    </tr>\n",
       "    <tr>\n",
       "      <th>3</th>\n",
       "      <td>769911858</td>\n",
       "      <td>0</td>\n",
       "      <td>40</td>\n",
       "      <td>F</td>\n",
       "      <td>4</td>\n",
       "      <td>ensino medio</td>\n",
       "      <td>NaN</td>\n",
       "      <td>menos que $40K</td>\n",
       "      <td>blue</td>\n",
       "      <td>34</td>\n",
       "      <td>3</td>\n",
       "      <td>1</td>\n",
       "      <td>4</td>\n",
       "      <td>3.313,03</td>\n",
       "      <td>1.171,56</td>\n",
       "      <td>20</td>\n",
       "    </tr>\n",
       "    <tr>\n",
       "      <th>4</th>\n",
       "      <td>709106358</td>\n",
       "      <td>0</td>\n",
       "      <td>40</td>\n",
       "      <td>M</td>\n",
       "      <td>3</td>\n",
       "      <td>sem educacao formal</td>\n",
       "      <td>casado</td>\n",
       "      <td>$60K - $80K</td>\n",
       "      <td>blue</td>\n",
       "      <td>21</td>\n",
       "      <td>5</td>\n",
       "      <td>0</td>\n",
       "      <td>1</td>\n",
       "      <td>4.716,22</td>\n",
       "      <td>816,08</td>\n",
       "      <td>28</td>\n",
       "    </tr>\n",
       "  </tbody>\n",
       "</table>\n",
       "</div>"
      ],
      "text/plain": [
       "          id  default  idade sexo  dependentes         escolaridade  \\\n",
       "0  768805383        0     45    M            3         ensino medio   \n",
       "1  818770008        0     49    F            5             mestrado   \n",
       "2  713982108        0     51    M            3             mestrado   \n",
       "3  769911858        0     40    F            4         ensino medio   \n",
       "4  709106358        0     40    M            3  sem educacao formal   \n",
       "\n",
       "  estado_civil   salario_anual tipo_cartao  meses_de_relacionamento  \\\n",
       "0       casado     $60K - $80K        blue                       39   \n",
       "1     solteiro  menos que $40K        blue                       44   \n",
       "2       casado    $80K - $120K        blue                       36   \n",
       "3          NaN  menos que $40K        blue                       34   \n",
       "4       casado     $60K - $80K        blue                       21   \n",
       "\n",
       "   qtd_produtos  iteracoes_12m  meses_inativo_12m limite_credito  \\\n",
       "0             5              3                  1      12.691,51   \n",
       "1             6              2                  1       8.256,96   \n",
       "2             4              0                  1       3.418,56   \n",
       "3             3              1                  4       3.313,03   \n",
       "4             5              0                  1       4.716,22   \n",
       "\n",
       "  valor_transacoes_12m  qtd_transacoes_12m  \n",
       "0             1.144,90                  42  \n",
       "1             1.291,45                  33  \n",
       "2             1.887,72                  20  \n",
       "3             1.171,56                  20  \n",
       "4               816,08                  28  "
      ]
     },
     "execution_count": 9,
     "metadata": {},
     "output_type": "execute_result"
    }
   ],
   "source": [
    "df.head(n=5)"
   ]
  },
  {
   "cell_type": "markdown",
   "id": "461c745a",
   "metadata": {
    "papermill": {
     "duration": 0.014175,
     "end_time": "2024-02-07T17:17:34.758030",
     "exception": false,
     "start_time": "2024-02-07T17:17:34.743855",
     "status": "completed"
    },
    "tags": []
   },
   "source": [
    "Para ter uma visão melhor sobre os dados que estamos operando, é interessante puxar as colunas e os respectivos tipos de dados."
   ]
  },
  {
   "cell_type": "code",
   "execution_count": 10,
   "id": "4103f189",
   "metadata": {
    "execution": {
     "iopub.execute_input": "2024-02-07T17:17:34.788019Z",
     "iopub.status.busy": "2024-02-07T17:17:34.787712Z",
     "iopub.status.idle": "2024-02-07T17:17:34.794633Z",
     "shell.execute_reply": "2024-02-07T17:17:34.793659Z"
    },
    "papermill": {
     "duration": 0.02391,
     "end_time": "2024-02-07T17:17:34.796405",
     "exception": false,
     "start_time": "2024-02-07T17:17:34.772495",
     "status": "completed"
    },
    "tags": []
   },
   "outputs": [
    {
     "data": {
      "text/plain": [
       "id                          int64\n",
       "default                     int64\n",
       "idade                       int64\n",
       "sexo                       object\n",
       "dependentes                 int64\n",
       "escolaridade               object\n",
       "estado_civil               object\n",
       "salario_anual              object\n",
       "tipo_cartao                object\n",
       "meses_de_relacionamento     int64\n",
       "qtd_produtos                int64\n",
       "iteracoes_12m               int64\n",
       "meses_inativo_12m           int64\n",
       "limite_credito             object\n",
       "valor_transacoes_12m       object\n",
       "qtd_transacoes_12m          int64\n",
       "dtype: object"
      ]
     },
     "execution_count": 10,
     "metadata": {},
     "output_type": "execute_result"
    }
   ],
   "source": [
    "df.dtypes"
   ]
  },
  {
   "cell_type": "markdown",
   "id": "9520a415",
   "metadata": {
    "papermill": {
     "duration": 0.015269,
     "end_time": "2024-02-07T17:17:34.827111",
     "exception": false,
     "start_time": "2024-02-07T17:17:34.811842",
     "status": "completed"
    },
    "tags": []
   },
   "source": [
    "Podemos também, filtrar os dados pelos tipos dos quais são pertencentes."
   ]
  },
  {
   "cell_type": "code",
   "execution_count": 11,
   "id": "9c22627f",
   "metadata": {
    "execution": {
     "iopub.execute_input": "2024-02-07T17:17:34.858604Z",
     "iopub.status.busy": "2024-02-07T17:17:34.858250Z",
     "iopub.status.idle": "2024-02-07T17:17:34.957877Z",
     "shell.execute_reply": "2024-02-07T17:17:34.957008Z"
    },
    "papermill": {
     "duration": 0.117279,
     "end_time": "2024-02-07T17:17:34.959657",
     "exception": false,
     "start_time": "2024-02-07T17:17:34.842378",
     "status": "completed"
    },
    "tags": []
   },
   "outputs": [
    {
     "data": {
      "text/html": [
       "<div>\n",
       "<style scoped>\n",
       "    .dataframe tbody tr th:only-of-type {\n",
       "        vertical-align: middle;\n",
       "    }\n",
       "\n",
       "    .dataframe tbody tr th {\n",
       "        vertical-align: top;\n",
       "    }\n",
       "\n",
       "    .dataframe thead th {\n",
       "        text-align: right;\n",
       "    }\n",
       "</style>\n",
       "<table border=\"1\" class=\"dataframe\">\n",
       "  <thead>\n",
       "    <tr style=\"text-align: right;\">\n",
       "      <th></th>\n",
       "      <th>count</th>\n",
       "      <th>unique</th>\n",
       "      <th>top</th>\n",
       "      <th>freq</th>\n",
       "    </tr>\n",
       "  </thead>\n",
       "  <tbody>\n",
       "    <tr>\n",
       "      <th>sexo</th>\n",
       "      <td>10127</td>\n",
       "      <td>2</td>\n",
       "      <td>F</td>\n",
       "      <td>5358</td>\n",
       "    </tr>\n",
       "    <tr>\n",
       "      <th>escolaridade</th>\n",
       "      <td>8608</td>\n",
       "      <td>5</td>\n",
       "      <td>mestrado</td>\n",
       "      <td>3128</td>\n",
       "    </tr>\n",
       "    <tr>\n",
       "      <th>estado_civil</th>\n",
       "      <td>9378</td>\n",
       "      <td>3</td>\n",
       "      <td>casado</td>\n",
       "      <td>4687</td>\n",
       "    </tr>\n",
       "    <tr>\n",
       "      <th>salario_anual</th>\n",
       "      <td>9015</td>\n",
       "      <td>5</td>\n",
       "      <td>menos que $40K</td>\n",
       "      <td>3561</td>\n",
       "    </tr>\n",
       "    <tr>\n",
       "      <th>tipo_cartao</th>\n",
       "      <td>10127</td>\n",
       "      <td>4</td>\n",
       "      <td>blue</td>\n",
       "      <td>9436</td>\n",
       "    </tr>\n",
       "    <tr>\n",
       "      <th>limite_credito</th>\n",
       "      <td>10127</td>\n",
       "      <td>9272</td>\n",
       "      <td>1.438,21</td>\n",
       "      <td>11</td>\n",
       "    </tr>\n",
       "    <tr>\n",
       "      <th>valor_transacoes_12m</th>\n",
       "      <td>10127</td>\n",
       "      <td>10035</td>\n",
       "      <td>3.851,51</td>\n",
       "      <td>3</td>\n",
       "    </tr>\n",
       "  </tbody>\n",
       "</table>\n",
       "</div>"
      ],
      "text/plain": [
       "                      count unique             top  freq\n",
       "sexo                  10127      2               F  5358\n",
       "escolaridade           8608      5        mestrado  3128\n",
       "estado_civil           9378      3          casado  4687\n",
       "salario_anual          9015      5  menos que $40K  3561\n",
       "tipo_cartao           10127      4            blue  9436\n",
       "limite_credito        10127   9272        1.438,21    11\n",
       "valor_transacoes_12m  10127  10035        3.851,51     3"
      ]
     },
     "execution_count": 11,
     "metadata": {},
     "output_type": "execute_result"
    }
   ],
   "source": [
    "df.select_dtypes('object').describe().transpose()"
   ]
  },
  {
   "cell_type": "markdown",
   "id": "da71190d",
   "metadata": {
    "papermill": {
     "duration": 0.014727,
     "end_time": "2024-02-07T17:17:34.989620",
     "exception": false,
     "start_time": "2024-02-07T17:17:34.974893",
     "status": "completed"
    },
    "tags": []
   },
   "source": [
    "Também podemos selecionar apenas os dados considerados números inteiros."
   ]
  },
  {
   "cell_type": "code",
   "execution_count": 12,
   "id": "2d35f0f9",
   "metadata": {
    "execution": {
     "iopub.execute_input": "2024-02-07T17:17:35.022440Z",
     "iopub.status.busy": "2024-02-07T17:17:35.021693Z",
     "iopub.status.idle": "2024-02-07T17:17:35.056433Z",
     "shell.execute_reply": "2024-02-07T17:17:35.055679Z"
    },
    "papermill": {
     "duration": 0.05297,
     "end_time": "2024-02-07T17:17:35.058086",
     "exception": false,
     "start_time": "2024-02-07T17:17:35.005116",
     "status": "completed"
    },
    "tags": []
   },
   "outputs": [
    {
     "data": {
      "text/html": [
       "<div>\n",
       "<style scoped>\n",
       "    .dataframe tbody tr th:only-of-type {\n",
       "        vertical-align: middle;\n",
       "    }\n",
       "\n",
       "    .dataframe tbody tr th {\n",
       "        vertical-align: top;\n",
       "    }\n",
       "\n",
       "    .dataframe thead th {\n",
       "        text-align: right;\n",
       "    }\n",
       "</style>\n",
       "<table border=\"1\" class=\"dataframe\">\n",
       "  <thead>\n",
       "    <tr style=\"text-align: right;\">\n",
       "      <th></th>\n",
       "      <th>count</th>\n",
       "      <th>mean</th>\n",
       "      <th>std</th>\n",
       "      <th>min</th>\n",
       "      <th>25%</th>\n",
       "      <th>50%</th>\n",
       "      <th>75%</th>\n",
       "      <th>max</th>\n",
       "    </tr>\n",
       "  </thead>\n",
       "  <tbody>\n",
       "    <tr>\n",
       "      <th>default</th>\n",
       "      <td>10127.0</td>\n",
       "      <td>0.160660</td>\n",
       "      <td>0.367235</td>\n",
       "      <td>0.0</td>\n",
       "      <td>0.0</td>\n",
       "      <td>0.0</td>\n",
       "      <td>0.0</td>\n",
       "      <td>1.0</td>\n",
       "    </tr>\n",
       "    <tr>\n",
       "      <th>idade</th>\n",
       "      <td>10127.0</td>\n",
       "      <td>46.325960</td>\n",
       "      <td>8.016814</td>\n",
       "      <td>26.0</td>\n",
       "      <td>41.0</td>\n",
       "      <td>46.0</td>\n",
       "      <td>52.0</td>\n",
       "      <td>73.0</td>\n",
       "    </tr>\n",
       "    <tr>\n",
       "      <th>dependentes</th>\n",
       "      <td>10127.0</td>\n",
       "      <td>2.346203</td>\n",
       "      <td>1.298908</td>\n",
       "      <td>0.0</td>\n",
       "      <td>1.0</td>\n",
       "      <td>2.0</td>\n",
       "      <td>3.0</td>\n",
       "      <td>5.0</td>\n",
       "    </tr>\n",
       "    <tr>\n",
       "      <th>meses_de_relacionamento</th>\n",
       "      <td>10127.0</td>\n",
       "      <td>35.928409</td>\n",
       "      <td>7.986416</td>\n",
       "      <td>13.0</td>\n",
       "      <td>31.0</td>\n",
       "      <td>36.0</td>\n",
       "      <td>40.0</td>\n",
       "      <td>56.0</td>\n",
       "    </tr>\n",
       "    <tr>\n",
       "      <th>qtd_produtos</th>\n",
       "      <td>10127.0</td>\n",
       "      <td>3.812580</td>\n",
       "      <td>1.554408</td>\n",
       "      <td>1.0</td>\n",
       "      <td>3.0</td>\n",
       "      <td>4.0</td>\n",
       "      <td>5.0</td>\n",
       "      <td>6.0</td>\n",
       "    </tr>\n",
       "    <tr>\n",
       "      <th>iteracoes_12m</th>\n",
       "      <td>10127.0</td>\n",
       "      <td>2.455317</td>\n",
       "      <td>1.106225</td>\n",
       "      <td>0.0</td>\n",
       "      <td>2.0</td>\n",
       "      <td>2.0</td>\n",
       "      <td>3.0</td>\n",
       "      <td>6.0</td>\n",
       "    </tr>\n",
       "    <tr>\n",
       "      <th>meses_inativo_12m</th>\n",
       "      <td>10127.0</td>\n",
       "      <td>2.341167</td>\n",
       "      <td>1.010622</td>\n",
       "      <td>0.0</td>\n",
       "      <td>2.0</td>\n",
       "      <td>2.0</td>\n",
       "      <td>3.0</td>\n",
       "      <td>6.0</td>\n",
       "    </tr>\n",
       "    <tr>\n",
       "      <th>qtd_transacoes_12m</th>\n",
       "      <td>10127.0</td>\n",
       "      <td>64.858695</td>\n",
       "      <td>23.472570</td>\n",
       "      <td>10.0</td>\n",
       "      <td>45.0</td>\n",
       "      <td>67.0</td>\n",
       "      <td>81.0</td>\n",
       "      <td>139.0</td>\n",
       "    </tr>\n",
       "  </tbody>\n",
       "</table>\n",
       "</div>"
      ],
      "text/plain": [
       "                           count       mean        std   min   25%   50%  \\\n",
       "default                  10127.0   0.160660   0.367235   0.0   0.0   0.0   \n",
       "idade                    10127.0  46.325960   8.016814  26.0  41.0  46.0   \n",
       "dependentes              10127.0   2.346203   1.298908   0.0   1.0   2.0   \n",
       "meses_de_relacionamento  10127.0  35.928409   7.986416  13.0  31.0  36.0   \n",
       "qtd_produtos             10127.0   3.812580   1.554408   1.0   3.0   4.0   \n",
       "iteracoes_12m            10127.0   2.455317   1.106225   0.0   2.0   2.0   \n",
       "meses_inativo_12m        10127.0   2.341167   1.010622   0.0   2.0   2.0   \n",
       "qtd_transacoes_12m       10127.0  64.858695  23.472570  10.0  45.0  67.0   \n",
       "\n",
       "                          75%    max  \n",
       "default                   0.0    1.0  \n",
       "idade                    52.0   73.0  \n",
       "dependentes               3.0    5.0  \n",
       "meses_de_relacionamento  40.0   56.0  \n",
       "qtd_produtos              5.0    6.0  \n",
       "iteracoes_12m             3.0    6.0  \n",
       "meses_inativo_12m         3.0    6.0  \n",
       "qtd_transacoes_12m       81.0  139.0  "
      ]
     },
     "execution_count": 12,
     "metadata": {},
     "output_type": "execute_result"
    }
   ],
   "source": [
    "df.drop('id', axis=1).select_dtypes('number').describe().transpose()"
   ]
  },
  {
   "cell_type": "markdown",
   "id": "df6652e7",
   "metadata": {
    "papermill": {
     "duration": 0.014301,
     "end_time": "2024-02-07T17:17:35.087343",
     "exception": false,
     "start_time": "2024-02-07T17:17:35.073042",
     "status": "completed"
    },
    "tags": []
   },
   "source": [
    "# Dados Faltantes"
   ]
  },
  {
   "cell_type": "markdown",
   "id": "afae02c4",
   "metadata": {
    "papermill": {
     "duration": 0.014229,
     "end_time": "2024-02-07T17:17:35.116005",
     "exception": false,
     "start_time": "2024-02-07T17:17:35.101776",
     "status": "completed"
    },
    "tags": []
   },
   "source": [
    "Um dos maiores problemas de nossa base de dados, é que alguns dados estão em falta, fazendo com que a leitura e análise não seja tão acurada.\n",
    "Dados faltantes podem ser categorizados entre:\n",
    "\n",
    "* Vazios (\"\")\n",
    "* Nulos (None)\n",
    "* Não disponíveis ou aplicáveis (na, NA, etc.)\n",
    "* Não numérico (nan, NaN, NAN, etc.)"
   ]
  },
  {
   "cell_type": "markdown",
   "id": "f0e3e62d",
   "metadata": {
    "papermill": {
     "duration": 0.014363,
     "end_time": "2024-02-07T17:17:35.144902",
     "exception": false,
     "start_time": "2024-02-07T17:17:35.130539",
     "status": "completed"
    },
    "tags": []
   },
   "source": [
    "Podemos consultar quais colunas possuem dados faltantes."
   ]
  },
  {
   "cell_type": "code",
   "execution_count": 13,
   "id": "739ba756",
   "metadata": {
    "execution": {
     "iopub.execute_input": "2024-02-07T17:17:35.176773Z",
     "iopub.status.busy": "2024-02-07T17:17:35.175854Z",
     "iopub.status.idle": "2024-02-07T17:17:35.185675Z",
     "shell.execute_reply": "2024-02-07T17:17:35.184835Z"
    },
    "papermill": {
     "duration": 0.027556,
     "end_time": "2024-02-07T17:17:35.187646",
     "exception": false,
     "start_time": "2024-02-07T17:17:35.160090",
     "status": "completed"
    },
    "tags": []
   },
   "outputs": [
    {
     "data": {
      "text/plain": [
       "id                         False\n",
       "default                    False\n",
       "idade                      False\n",
       "sexo                       False\n",
       "dependentes                False\n",
       "escolaridade                True\n",
       "estado_civil                True\n",
       "salario_anual               True\n",
       "tipo_cartao                False\n",
       "meses_de_relacionamento    False\n",
       "qtd_produtos               False\n",
       "iteracoes_12m              False\n",
       "meses_inativo_12m          False\n",
       "limite_credito             False\n",
       "valor_transacoes_12m       False\n",
       "qtd_transacoes_12m         False\n",
       "dtype: bool"
      ]
     },
     "execution_count": 13,
     "metadata": {},
     "output_type": "execute_result"
    }
   ],
   "source": [
    "df.isna().any()"
   ]
  },
  {
   "cell_type": "markdown",
   "id": "956fcb20",
   "metadata": {
    "papermill": {
     "duration": 0.015614,
     "end_time": "2024-02-07T17:17:35.219258",
     "exception": false,
     "start_time": "2024-02-07T17:17:35.203644",
     "status": "completed"
    },
    "tags": []
   },
   "source": [
    "No caso, os dados de \"escolaridade\", \"estado_civil\" e \"salario_anual\" estão com dados faltantes."
   ]
  },
  {
   "cell_type": "markdown",
   "id": "c84f0694",
   "metadata": {
    "papermill": {
     "duration": 0.015199,
     "end_time": "2024-02-07T17:17:35.250607",
     "exception": false,
     "start_time": "2024-02-07T17:17:35.235408",
     "status": "completed"
    },
    "tags": []
   },
   "source": [
    "A função abaixo levanta algumas estatisticas sobre as colunas dos dados faltantes."
   ]
  },
  {
   "cell_type": "code",
   "execution_count": 14,
   "id": "9baa845f",
   "metadata": {
    "execution": {
     "iopub.execute_input": "2024-02-07T17:17:35.283628Z",
     "iopub.status.busy": "2024-02-07T17:17:35.282668Z",
     "iopub.status.idle": "2024-02-07T17:17:35.288294Z",
     "shell.execute_reply": "2024-02-07T17:17:35.287712Z"
    },
    "papermill": {
     "duration": 0.024198,
     "end_time": "2024-02-07T17:17:35.290290",
     "exception": false,
     "start_time": "2024-02-07T17:17:35.266092",
     "status": "completed"
    },
    "tags": []
   },
   "outputs": [],
   "source": [
    "def stats_dados_faltantes(df: pd.DataFrame) -> None:\n",
    "    \n",
    "    stats_dados_faltantes = []\n",
    "    for col in df.columns:\n",
    "        if df[col].isna().any():\n",
    "            qtd, _ = df[df[col].isna()].shape\n",
    "            total, _ = df.shape\n",
    "            dict_dados_faltantes = {col:\n",
    "                {\n",
    "                    'quantidade': qtd,\n",
    "                    \"porcentagem\": round(100 * qtd/total, 2)\n",
    "                }\n",
    "            }\n",
    "            stats_dados_faltantes.append(dict_dados_faltantes)\n",
    "            \n",
    "    for stat in stats_dados_faltantes:\n",
    "        print(stat)\n"
   ]
  },
  {
   "cell_type": "markdown",
   "id": "1e29fbea",
   "metadata": {
    "papermill": {
     "duration": 0.015677,
     "end_time": "2024-02-07T17:17:35.322644",
     "exception": false,
     "start_time": "2024-02-07T17:17:35.306967",
     "status": "completed"
    },
    "tags": []
   },
   "source": [
    "O código abaixo imprimirá as estatísticas de dados faltantes para cada coluna no DataFrame"
   ]
  },
  {
   "cell_type": "code",
   "execution_count": 15,
   "id": "835cf8db",
   "metadata": {
    "execution": {
     "iopub.execute_input": "2024-02-07T17:17:35.355880Z",
     "iopub.status.busy": "2024-02-07T17:17:35.355293Z",
     "iopub.status.idle": "2024-02-07T17:17:35.366744Z",
     "shell.execute_reply": "2024-02-07T17:17:35.365851Z"
    },
    "papermill": {
     "duration": 0.030671,
     "end_time": "2024-02-07T17:17:35.368954",
     "exception": false,
     "start_time": "2024-02-07T17:17:35.338283",
     "status": "completed"
    },
    "tags": []
   },
   "outputs": [
    {
     "name": "stdout",
     "output_type": "stream",
     "text": [
      "{'escolaridade': {'quantidade': 1519, 'porcentagem': 15.0}}\n",
      "{'estado_civil': {'quantidade': 749, 'porcentagem': 7.4}}\n",
      "{'salario_anual': {'quantidade': 1112, 'porcentagem': 10.98}}\n"
     ]
    }
   ],
   "source": [
    "stats_dados_faltantes(df=df)"
   ]
  },
  {
   "cell_type": "markdown",
   "id": "cb49cf2c",
   "metadata": {
    "papermill": {
     "duration": 0.01461,
     "end_time": "2024-02-07T17:17:35.399100",
     "exception": false,
     "start_time": "2024-02-07T17:17:35.384490",
     "status": "completed"
    },
    "tags": []
   },
   "source": [
    "A linha de código abaixo vai calcular e imprimir as estatísticas de dados faltantes apenas para as linhas em que a coluna 'default' tem o valor 0, ou seja, retornará a quantidade de clientes adimplentes."
   ]
  },
  {
   "cell_type": "code",
   "execution_count": 16,
   "id": "feb0be09",
   "metadata": {
    "execution": {
     "iopub.execute_input": "2024-02-07T17:17:35.430280Z",
     "iopub.status.busy": "2024-02-07T17:17:35.429981Z",
     "iopub.status.idle": "2024-02-07T17:17:35.443637Z",
     "shell.execute_reply": "2024-02-07T17:17:35.442432Z"
    },
    "papermill": {
     "duration": 0.031852,
     "end_time": "2024-02-07T17:17:35.445759",
     "exception": false,
     "start_time": "2024-02-07T17:17:35.413907",
     "status": "completed"
    },
    "tags": []
   },
   "outputs": [
    {
     "name": "stdout",
     "output_type": "stream",
     "text": [
      "{'escolaridade': {'quantidade': 1263, 'porcentagem': 14.86}}\n",
      "{'estado_civil': {'quantidade': 620, 'porcentagem': 7.29}}\n",
      "{'salario_anual': {'quantidade': 925, 'porcentagem': 10.88}}\n"
     ]
    }
   ],
   "source": [
    "stats_dados_faltantes(df=df[df['default'] == 0])"
   ]
  },
  {
   "cell_type": "markdown",
   "id": "1d219f26",
   "metadata": {
    "papermill": {
     "duration": 0.015459,
     "end_time": "2024-02-07T17:17:35.477756",
     "exception": false,
     "start_time": "2024-02-07T17:17:35.462297",
     "status": "completed"
    },
    "tags": []
   },
   "source": [
    "Ja a linha de código abaixo fará a mesma coisa, apenas irá filtrar os dados onde 'default' tem o valor 1, ou seja, retornará a quantidade de clientes inadimplentes."
   ]
  },
  {
   "cell_type": "code",
   "execution_count": 17,
   "id": "c807ff7e",
   "metadata": {
    "execution": {
     "iopub.execute_input": "2024-02-07T17:17:35.511357Z",
     "iopub.status.busy": "2024-02-07T17:17:35.510817Z",
     "iopub.status.idle": "2024-02-07T17:17:35.520541Z",
     "shell.execute_reply": "2024-02-07T17:17:35.519503Z"
    },
    "papermill": {
     "duration": 0.029096,
     "end_time": "2024-02-07T17:17:35.522775",
     "exception": false,
     "start_time": "2024-02-07T17:17:35.493679",
     "status": "completed"
    },
    "tags": []
   },
   "outputs": [
    {
     "name": "stdout",
     "output_type": "stream",
     "text": [
      "{'escolaridade': {'quantidade': 256, 'porcentagem': 15.73}}\n",
      "{'estado_civil': {'quantidade': 129, 'porcentagem': 7.93}}\n",
      "{'salario_anual': {'quantidade': 187, 'porcentagem': 11.49}}\n"
     ]
    }
   ],
   "source": [
    "stats_dados_faltantes(df=df[df['default'] == 1])"
   ]
  },
  {
   "cell_type": "markdown",
   "id": "338d50e2",
   "metadata": {
    "papermill": {
     "duration": 0.014781,
     "end_time": "2024-02-07T17:17:35.553004",
     "exception": false,
     "start_time": "2024-02-07T17:17:35.538223",
     "status": "completed"
    },
    "tags": []
   },
   "source": [
    "# Transformação e Limpeza de dados"
   ]
  },
  {
   "cell_type": "markdown",
   "id": "4f0f557b",
   "metadata": {
    "papermill": {
     "duration": 0.014755,
     "end_time": "2024-02-07T17:17:35.582756",
     "exception": false,
     "start_time": "2024-02-07T17:17:35.568001",
     "status": "completed"
    },
    "tags": []
   },
   "source": [
    "Após realizar o esquema dos dados e a leitura mais aprofundada dos mesmos, precisamos transformar e limpar o conjunto de dados para que possamos analizálos da melhor forma. Para isso, usaremos um método chamado *data wrangling*.\n",
    "Iremos realizar:\n",
    "\n",
    "* Correção do esquema de dados das colunas\n",
    "* Remover os dados faltantes"
   ]
  },
  {
   "cell_type": "markdown",
   "id": "6d288408",
   "metadata": {
    "papermill": {
     "duration": 0.014442,
     "end_time": "2024-02-07T17:17:35.612101",
     "exception": false,
     "start_time": "2024-02-07T17:17:35.597659",
     "status": "completed"
    },
    "tags": []
   },
   "source": [
    "**Correção de Esquema**"
   ]
  },
  {
   "cell_type": "markdown",
   "id": "17e34c0c",
   "metadata": {
    "papermill": {
     "duration": 0.014629,
     "end_time": "2024-02-07T17:17:35.641726",
     "exception": false,
     "start_time": "2024-02-07T17:17:35.627097",
     "status": "completed"
    },
    "tags": []
   },
   "source": [
    "Na etapa de exploração, notamos que as colunas limite_credito e valor_transacoes_12m\n",
    "estavam sendo interpretadas como colunas categóricas ( dtype = object )."
   ]
  },
  {
   "cell_type": "code",
   "execution_count": 18,
   "id": "b6288c31",
   "metadata": {
    "execution": {
     "iopub.execute_input": "2024-02-07T17:17:35.673855Z",
     "iopub.status.busy": "2024-02-07T17:17:35.673288Z",
     "iopub.status.idle": "2024-02-07T17:17:35.679808Z",
     "shell.execute_reply": "2024-02-07T17:17:35.679243Z"
    },
    "papermill": {
     "duration": 0.024626,
     "end_time": "2024-02-07T17:17:35.681617",
     "exception": false,
     "start_time": "2024-02-07T17:17:35.656991",
     "status": "completed"
    },
    "tags": []
   },
   "outputs": [
    {
     "data": {
      "text/plain": [
       "limite_credito          object\n",
       "valor_transacoes_12m    object\n",
       "dtype: object"
      ]
     },
     "execution_count": 18,
     "metadata": {},
     "output_type": "execute_result"
    }
   ],
   "source": [
    "df[['limite_credito', 'valor_transacoes_12m']].dtypes"
   ]
  },
  {
   "cell_type": "code",
   "execution_count": 19,
   "id": "2e9a3e81",
   "metadata": {
    "execution": {
     "iopub.execute_input": "2024-02-07T17:17:35.718422Z",
     "iopub.status.busy": "2024-02-07T17:17:35.717400Z",
     "iopub.status.idle": "2024-02-07T17:17:35.729123Z",
     "shell.execute_reply": "2024-02-07T17:17:35.727602Z"
    },
    "papermill": {
     "duration": 0.03292,
     "end_time": "2024-02-07T17:17:35.731537",
     "exception": false,
     "start_time": "2024-02-07T17:17:35.698617",
     "status": "completed"
    },
    "tags": []
   },
   "outputs": [
    {
     "data": {
      "text/html": [
       "<div>\n",
       "<style scoped>\n",
       "    .dataframe tbody tr th:only-of-type {\n",
       "        vertical-align: middle;\n",
       "    }\n",
       "\n",
       "    .dataframe tbody tr th {\n",
       "        vertical-align: top;\n",
       "    }\n",
       "\n",
       "    .dataframe thead th {\n",
       "        text-align: right;\n",
       "    }\n",
       "</style>\n",
       "<table border=\"1\" class=\"dataframe\">\n",
       "  <thead>\n",
       "    <tr style=\"text-align: right;\">\n",
       "      <th></th>\n",
       "      <th>limite_credito</th>\n",
       "      <th>valor_transacoes_12m</th>\n",
       "    </tr>\n",
       "  </thead>\n",
       "  <tbody>\n",
       "    <tr>\n",
       "      <th>0</th>\n",
       "      <td>12.691,51</td>\n",
       "      <td>1.144,90</td>\n",
       "    </tr>\n",
       "    <tr>\n",
       "      <th>1</th>\n",
       "      <td>8.256,96</td>\n",
       "      <td>1.291,45</td>\n",
       "    </tr>\n",
       "    <tr>\n",
       "      <th>2</th>\n",
       "      <td>3.418,56</td>\n",
       "      <td>1.887,72</td>\n",
       "    </tr>\n",
       "    <tr>\n",
       "      <th>3</th>\n",
       "      <td>3.313,03</td>\n",
       "      <td>1.171,56</td>\n",
       "    </tr>\n",
       "    <tr>\n",
       "      <th>4</th>\n",
       "      <td>4.716,22</td>\n",
       "      <td>816,08</td>\n",
       "    </tr>\n",
       "  </tbody>\n",
       "</table>\n",
       "</div>"
      ],
      "text/plain": [
       "  limite_credito valor_transacoes_12m\n",
       "0      12.691,51             1.144,90\n",
       "1       8.256,96             1.291,45\n",
       "2       3.418,56             1.887,72\n",
       "3       3.313,03             1.171,56\n",
       "4       4.716,22               816,08"
      ]
     },
     "execution_count": 19,
     "metadata": {},
     "output_type": "execute_result"
    }
   ],
   "source": [
    "df[['limite_credito', 'valor_transacoes_12m']].head(n=5)"
   ]
  },
  {
   "cell_type": "markdown",
   "id": "bcd95bb9",
   "metadata": {
    "papermill": {
     "duration": 0.02085,
     "end_time": "2024-02-07T17:17:35.772182",
     "exception": false,
     "start_time": "2024-02-07T17:17:35.751332",
     "status": "completed"
    },
    "tags": []
   },
   "source": [
    "Vamos criar uma função lambda para limpar os dados. Mas antes, vamos testar sua\n",
    "aplicação através do método funcional map :"
   ]
  },
  {
   "cell_type": "code",
   "execution_count": 20,
   "id": "fcb47fa2",
   "metadata": {
    "execution": {
     "iopub.execute_input": "2024-02-07T17:17:35.811384Z",
     "iopub.status.busy": "2024-02-07T17:17:35.810645Z",
     "iopub.status.idle": "2024-02-07T17:17:35.816259Z",
     "shell.execute_reply": "2024-02-07T17:17:35.815314Z"
    },
    "papermill": {
     "duration": 0.02442,
     "end_time": "2024-02-07T17:17:35.818018",
     "exception": false,
     "start_time": "2024-02-07T17:17:35.793598",
     "status": "completed"
    },
    "tags": []
   },
   "outputs": [
    {
     "name": "stdout",
     "output_type": "stream",
     "text": [
      "['12.691,51', '8.256,96', '3.418,56', '3.313,03', '4.716,22', 12345.67]\n",
      "[12691.51, 8256.96, 3418.56, 3313.03, 4716.22, 1234567.0]\n"
     ]
    }
   ],
   "source": [
    "fn = lambda valor: float(str(valor).replace(\".\", \"\").replace(\",\", \".\"))\n",
    "\n",
    "valores_originais = [\n",
    "    '12.691,51',\n",
    "    '8.256,96',\n",
    "    '3.418,56',\n",
    "    '3.313,03',\n",
    "    '4.716,22',\n",
    "    12345.67  # Adicionando um valor float à lista\n",
    "]\n",
    "\n",
    "valores_limpos = list(map(fn, valores_originais))\n",
    "\n",
    "print(valores_originais)\n",
    "print(valores_limpos)\n"
   ]
  },
  {
   "cell_type": "markdown",
   "id": "297546d9",
   "metadata": {
    "papermill": {
     "duration": 0.018702,
     "end_time": "2024-02-07T17:17:35.855550",
     "exception": false,
     "start_time": "2024-02-07T17:17:35.836848",
     "status": "completed"
    },
    "tags": []
   },
   "source": [
    "Com a função lambda de limpeza pronta, basta aplica-la nas colunas de interesse."
   ]
  },
  {
   "cell_type": "code",
   "execution_count": 21,
   "id": "1273feb8",
   "metadata": {
    "execution": {
     "iopub.execute_input": "2024-02-07T17:17:35.893502Z",
     "iopub.status.busy": "2024-02-07T17:17:35.893148Z",
     "iopub.status.idle": "2024-02-07T17:17:35.908893Z",
     "shell.execute_reply": "2024-02-07T17:17:35.908261Z"
    },
    "papermill": {
     "duration": 0.036463,
     "end_time": "2024-02-07T17:17:35.910408",
     "exception": false,
     "start_time": "2024-02-07T17:17:35.873945",
     "status": "completed"
    },
    "tags": []
   },
   "outputs": [],
   "source": [
    "df['valor_transacoes_12m'] = df['valor_transacoes_12m'].apply(fn)\n",
    "df['limite_credito'] = df['limite_credito'].apply(fn)"
   ]
  },
  {
   "cell_type": "markdown",
   "id": "2850ab1a",
   "metadata": {
    "papermill": {
     "duration": 0.015289,
     "end_time": "2024-02-07T17:17:35.941899",
     "exception": false,
     "start_time": "2024-02-07T17:17:35.926610",
     "status": "completed"
    },
    "tags": []
   },
   "source": [
    "Vamos descrever novamente o esquema"
   ]
  },
  {
   "cell_type": "code",
   "execution_count": 22,
   "id": "1752139e",
   "metadata": {
    "execution": {
     "iopub.execute_input": "2024-02-07T17:17:35.975275Z",
     "iopub.status.busy": "2024-02-07T17:17:35.974898Z",
     "iopub.status.idle": "2024-02-07T17:17:35.982855Z",
     "shell.execute_reply": "2024-02-07T17:17:35.982023Z"
    },
    "papermill": {
     "duration": 0.027545,
     "end_time": "2024-02-07T17:17:35.984715",
     "exception": false,
     "start_time": "2024-02-07T17:17:35.957170",
     "status": "completed"
    },
    "tags": []
   },
   "outputs": [
    {
     "data": {
      "text/plain": [
       "id                           int64\n",
       "default                      int64\n",
       "idade                        int64\n",
       "sexo                        object\n",
       "dependentes                  int64\n",
       "escolaridade                object\n",
       "estado_civil                object\n",
       "salario_anual               object\n",
       "tipo_cartao                 object\n",
       "meses_de_relacionamento      int64\n",
       "qtd_produtos                 int64\n",
       "iteracoes_12m                int64\n",
       "meses_inativo_12m            int64\n",
       "limite_credito             float64\n",
       "valor_transacoes_12m       float64\n",
       "qtd_transacoes_12m           int64\n",
       "dtype: object"
      ]
     },
     "execution_count": 22,
     "metadata": {},
     "output_type": "execute_result"
    }
   ],
   "source": [
    "df.dtypes"
   ]
  },
  {
   "cell_type": "markdown",
   "id": "1f96b350",
   "metadata": {
    "papermill": {
     "duration": 0.016728,
     "end_time": "2024-02-07T17:17:36.020634",
     "exception": false,
     "start_time": "2024-02-07T17:17:36.003906",
     "status": "completed"
    },
    "tags": []
   },
   "source": [
    "Veja que agora as colunas \"valor_transacoes_12m\" e \"qtd_transacoes_12m\" são do tipo float."
   ]
  },
  {
   "cell_type": "code",
   "execution_count": 23,
   "id": "d44ece52",
   "metadata": {
    "execution": {
     "iopub.execute_input": "2024-02-07T17:17:36.055219Z",
     "iopub.status.busy": "2024-02-07T17:17:36.054678Z",
     "iopub.status.idle": "2024-02-07T17:17:36.073635Z",
     "shell.execute_reply": "2024-02-07T17:17:36.072768Z"
    },
    "papermill": {
     "duration": 0.037721,
     "end_time": "2024-02-07T17:17:36.075734",
     "exception": false,
     "start_time": "2024-02-07T17:17:36.038013",
     "status": "completed"
    },
    "tags": []
   },
   "outputs": [
    {
     "data": {
      "text/html": [
       "<div>\n",
       "<style scoped>\n",
       "    .dataframe tbody tr th:only-of-type {\n",
       "        vertical-align: middle;\n",
       "    }\n",
       "\n",
       "    .dataframe tbody tr th {\n",
       "        vertical-align: top;\n",
       "    }\n",
       "\n",
       "    .dataframe thead th {\n",
       "        text-align: right;\n",
       "    }\n",
       "</style>\n",
       "<table border=\"1\" class=\"dataframe\">\n",
       "  <thead>\n",
       "    <tr style=\"text-align: right;\">\n",
       "      <th></th>\n",
       "      <th>count</th>\n",
       "      <th>unique</th>\n",
       "      <th>top</th>\n",
       "      <th>freq</th>\n",
       "    </tr>\n",
       "  </thead>\n",
       "  <tbody>\n",
       "    <tr>\n",
       "      <th>sexo</th>\n",
       "      <td>10127</td>\n",
       "      <td>2</td>\n",
       "      <td>F</td>\n",
       "      <td>5358</td>\n",
       "    </tr>\n",
       "    <tr>\n",
       "      <th>escolaridade</th>\n",
       "      <td>8608</td>\n",
       "      <td>5</td>\n",
       "      <td>mestrado</td>\n",
       "      <td>3128</td>\n",
       "    </tr>\n",
       "    <tr>\n",
       "      <th>estado_civil</th>\n",
       "      <td>9378</td>\n",
       "      <td>3</td>\n",
       "      <td>casado</td>\n",
       "      <td>4687</td>\n",
       "    </tr>\n",
       "    <tr>\n",
       "      <th>salario_anual</th>\n",
       "      <td>9015</td>\n",
       "      <td>5</td>\n",
       "      <td>menos que $40K</td>\n",
       "      <td>3561</td>\n",
       "    </tr>\n",
       "    <tr>\n",
       "      <th>tipo_cartao</th>\n",
       "      <td>10127</td>\n",
       "      <td>4</td>\n",
       "      <td>blue</td>\n",
       "      <td>9436</td>\n",
       "    </tr>\n",
       "  </tbody>\n",
       "</table>\n",
       "</div>"
      ],
      "text/plain": [
       "               count unique             top  freq\n",
       "sexo           10127      2               F  5358\n",
       "escolaridade    8608      5        mestrado  3128\n",
       "estado_civil    9378      3          casado  4687\n",
       "salario_anual   9015      5  menos que $40K  3561\n",
       "tipo_cartao    10127      4            blue  9436"
      ]
     },
     "execution_count": 23,
     "metadata": {},
     "output_type": "execute_result"
    }
   ],
   "source": [
    "df.select_dtypes('object').describe().transpose()"
   ]
  },
  {
   "cell_type": "code",
   "execution_count": 24,
   "id": "edcad786",
   "metadata": {
    "execution": {
     "iopub.execute_input": "2024-02-07T17:17:36.109479Z",
     "iopub.status.busy": "2024-02-07T17:17:36.108899Z",
     "iopub.status.idle": "2024-02-07T17:17:36.142268Z",
     "shell.execute_reply": "2024-02-07T17:17:36.141416Z"
    },
    "papermill": {
     "duration": 0.051775,
     "end_time": "2024-02-07T17:17:36.144027",
     "exception": false,
     "start_time": "2024-02-07T17:17:36.092252",
     "status": "completed"
    },
    "tags": []
   },
   "outputs": [
    {
     "data": {
      "text/html": [
       "<div>\n",
       "<style scoped>\n",
       "    .dataframe tbody tr th:only-of-type {\n",
       "        vertical-align: middle;\n",
       "    }\n",
       "\n",
       "    .dataframe tbody tr th {\n",
       "        vertical-align: top;\n",
       "    }\n",
       "\n",
       "    .dataframe thead th {\n",
       "        text-align: right;\n",
       "    }\n",
       "</style>\n",
       "<table border=\"1\" class=\"dataframe\">\n",
       "  <thead>\n",
       "    <tr style=\"text-align: right;\">\n",
       "      <th></th>\n",
       "      <th>count</th>\n",
       "      <th>mean</th>\n",
       "      <th>std</th>\n",
       "      <th>min</th>\n",
       "      <th>25%</th>\n",
       "      <th>50%</th>\n",
       "      <th>75%</th>\n",
       "      <th>max</th>\n",
       "    </tr>\n",
       "  </thead>\n",
       "  <tbody>\n",
       "    <tr>\n",
       "      <th>default</th>\n",
       "      <td>10127.0</td>\n",
       "      <td>0.160660</td>\n",
       "      <td>0.367235</td>\n",
       "      <td>0.00</td>\n",
       "      <td>0.000</td>\n",
       "      <td>0.00</td>\n",
       "      <td>0.000</td>\n",
       "      <td>1.00</td>\n",
       "    </tr>\n",
       "    <tr>\n",
       "      <th>idade</th>\n",
       "      <td>10127.0</td>\n",
       "      <td>46.325960</td>\n",
       "      <td>8.016814</td>\n",
       "      <td>26.00</td>\n",
       "      <td>41.000</td>\n",
       "      <td>46.00</td>\n",
       "      <td>52.000</td>\n",
       "      <td>73.00</td>\n",
       "    </tr>\n",
       "    <tr>\n",
       "      <th>dependentes</th>\n",
       "      <td>10127.0</td>\n",
       "      <td>2.346203</td>\n",
       "      <td>1.298908</td>\n",
       "      <td>0.00</td>\n",
       "      <td>1.000</td>\n",
       "      <td>2.00</td>\n",
       "      <td>3.000</td>\n",
       "      <td>5.00</td>\n",
       "    </tr>\n",
       "    <tr>\n",
       "      <th>meses_de_relacionamento</th>\n",
       "      <td>10127.0</td>\n",
       "      <td>35.928409</td>\n",
       "      <td>7.986416</td>\n",
       "      <td>13.00</td>\n",
       "      <td>31.000</td>\n",
       "      <td>36.00</td>\n",
       "      <td>40.000</td>\n",
       "      <td>56.00</td>\n",
       "    </tr>\n",
       "    <tr>\n",
       "      <th>qtd_produtos</th>\n",
       "      <td>10127.0</td>\n",
       "      <td>3.812580</td>\n",
       "      <td>1.554408</td>\n",
       "      <td>1.00</td>\n",
       "      <td>3.000</td>\n",
       "      <td>4.00</td>\n",
       "      <td>5.000</td>\n",
       "      <td>6.00</td>\n",
       "    </tr>\n",
       "    <tr>\n",
       "      <th>iteracoes_12m</th>\n",
       "      <td>10127.0</td>\n",
       "      <td>2.455317</td>\n",
       "      <td>1.106225</td>\n",
       "      <td>0.00</td>\n",
       "      <td>2.000</td>\n",
       "      <td>2.00</td>\n",
       "      <td>3.000</td>\n",
       "      <td>6.00</td>\n",
       "    </tr>\n",
       "    <tr>\n",
       "      <th>meses_inativo_12m</th>\n",
       "      <td>10127.0</td>\n",
       "      <td>2.341167</td>\n",
       "      <td>1.010622</td>\n",
       "      <td>0.00</td>\n",
       "      <td>2.000</td>\n",
       "      <td>2.00</td>\n",
       "      <td>3.000</td>\n",
       "      <td>6.00</td>\n",
       "    </tr>\n",
       "    <tr>\n",
       "      <th>limite_credito</th>\n",
       "      <td>10127.0</td>\n",
       "      <td>8632.440165</td>\n",
       "      <td>9088.788041</td>\n",
       "      <td>1438.00</td>\n",
       "      <td>2555.355</td>\n",
       "      <td>4549.42</td>\n",
       "      <td>11068.175</td>\n",
       "      <td>34516.99</td>\n",
       "    </tr>\n",
       "    <tr>\n",
       "      <th>valor_transacoes_12m</th>\n",
       "      <td>10127.0</td>\n",
       "      <td>4404.583047</td>\n",
       "      <td>3397.128078</td>\n",
       "      <td>510.16</td>\n",
       "      <td>2155.825</td>\n",
       "      <td>3899.59</td>\n",
       "      <td>4741.310</td>\n",
       "      <td>18484.93</td>\n",
       "    </tr>\n",
       "    <tr>\n",
       "      <th>qtd_transacoes_12m</th>\n",
       "      <td>10127.0</td>\n",
       "      <td>64.858695</td>\n",
       "      <td>23.472570</td>\n",
       "      <td>10.00</td>\n",
       "      <td>45.000</td>\n",
       "      <td>67.00</td>\n",
       "      <td>81.000</td>\n",
       "      <td>139.00</td>\n",
       "    </tr>\n",
       "  </tbody>\n",
       "</table>\n",
       "</div>"
      ],
      "text/plain": [
       "                           count         mean          std      min       25%  \\\n",
       "default                  10127.0     0.160660     0.367235     0.00     0.000   \n",
       "idade                    10127.0    46.325960     8.016814    26.00    41.000   \n",
       "dependentes              10127.0     2.346203     1.298908     0.00     1.000   \n",
       "meses_de_relacionamento  10127.0    35.928409     7.986416    13.00    31.000   \n",
       "qtd_produtos             10127.0     3.812580     1.554408     1.00     3.000   \n",
       "iteracoes_12m            10127.0     2.455317     1.106225     0.00     2.000   \n",
       "meses_inativo_12m        10127.0     2.341167     1.010622     0.00     2.000   \n",
       "limite_credito           10127.0  8632.440165  9088.788041  1438.00  2555.355   \n",
       "valor_transacoes_12m     10127.0  4404.583047  3397.128078   510.16  2155.825   \n",
       "qtd_transacoes_12m       10127.0    64.858695    23.472570    10.00    45.000   \n",
       "\n",
       "                             50%        75%       max  \n",
       "default                     0.00      0.000      1.00  \n",
       "idade                      46.00     52.000     73.00  \n",
       "dependentes                 2.00      3.000      5.00  \n",
       "meses_de_relacionamento    36.00     40.000     56.00  \n",
       "qtd_produtos                4.00      5.000      6.00  \n",
       "iteracoes_12m               2.00      3.000      6.00  \n",
       "meses_inativo_12m           2.00      3.000      6.00  \n",
       "limite_credito           4549.42  11068.175  34516.99  \n",
       "valor_transacoes_12m     3899.59   4741.310  18484.93  \n",
       "qtd_transacoes_12m         67.00     81.000    139.00  "
      ]
     },
     "execution_count": 24,
     "metadata": {},
     "output_type": "execute_result"
    }
   ],
   "source": [
    "df.drop('id', axis=1).select_dtypes('number').describe().transpose()"
   ]
  },
  {
   "cell_type": "markdown",
   "id": "23ae4621",
   "metadata": {
    "papermill": {
     "duration": 0.015779,
     "end_time": "2024-02-07T17:17:36.176283",
     "exception": false,
     "start_time": "2024-02-07T17:17:36.160504",
     "status": "completed"
    },
    "tags": []
   },
   "source": [
    "**Remoção de dados faltantes**"
   ]
  },
  {
   "cell_type": "markdown",
   "id": "ec3cc566",
   "metadata": {
    "papermill": {
     "duration": 0.015747,
     "end_time": "2024-02-07T17:17:36.208212",
     "exception": false,
     "start_time": "2024-02-07T17:17:36.192465",
     "status": "completed"
    },
    "tags": []
   },
   "source": [
    "Como o pandas está ciente do que é um dados faltante, a remoção das linhas problemáticas é\n",
    "trivial."
   ]
  },
  {
   "cell_type": "code",
   "execution_count": 25,
   "id": "3d22fe88",
   "metadata": {
    "execution": {
     "iopub.execute_input": "2024-02-07T17:17:36.242740Z",
     "iopub.status.busy": "2024-02-07T17:17:36.242387Z",
     "iopub.status.idle": "2024-02-07T17:17:36.250333Z",
     "shell.execute_reply": "2024-02-07T17:17:36.249305Z"
    },
    "papermill": {
     "duration": 0.028123,
     "end_time": "2024-02-07T17:17:36.252346",
     "exception": false,
     "start_time": "2024-02-07T17:17:36.224223",
     "status": "completed"
    },
    "tags": []
   },
   "outputs": [],
   "source": [
    "df.dropna(inplace=True)"
   ]
  },
  {
   "cell_type": "markdown",
   "id": "f42f4e53",
   "metadata": {
    "papermill": {
     "duration": 0.015395,
     "end_time": "2024-02-07T17:17:36.284168",
     "exception": false,
     "start_time": "2024-02-07T17:17:36.268773",
     "status": "completed"
    },
    "tags": []
   },
   "source": [
    "Vamos analisar a estrutura dos dados novamente."
   ]
  },
  {
   "cell_type": "code",
   "execution_count": 26,
   "id": "9d976a22",
   "metadata": {
    "execution": {
     "iopub.execute_input": "2024-02-07T17:17:36.319871Z",
     "iopub.status.busy": "2024-02-07T17:17:36.319525Z",
     "iopub.status.idle": "2024-02-07T17:17:36.325467Z",
     "shell.execute_reply": "2024-02-07T17:17:36.324526Z"
    },
    "papermill": {
     "duration": 0.026101,
     "end_time": "2024-02-07T17:17:36.327263",
     "exception": false,
     "start_time": "2024-02-07T17:17:36.301162",
     "status": "completed"
    },
    "tags": []
   },
   "outputs": [
    {
     "data": {
      "text/plain": [
       "(7081, 16)"
      ]
     },
     "execution_count": 26,
     "metadata": {},
     "output_type": "execute_result"
    }
   ],
   "source": [
    "df.shape"
   ]
  },
  {
   "cell_type": "code",
   "execution_count": 27,
   "id": "f7a07b00",
   "metadata": {
    "execution": {
     "iopub.execute_input": "2024-02-07T17:17:36.361107Z",
     "iopub.status.busy": "2024-02-07T17:17:36.360814Z",
     "iopub.status.idle": "2024-02-07T17:17:36.368649Z",
     "shell.execute_reply": "2024-02-07T17:17:36.367629Z"
    },
    "papermill": {
     "duration": 0.026736,
     "end_time": "2024-02-07T17:17:36.370473",
     "exception": false,
     "start_time": "2024-02-07T17:17:36.343737",
     "status": "completed"
    },
    "tags": []
   },
   "outputs": [
    {
     "data": {
      "text/plain": [
       "(5968, 16)"
      ]
     },
     "execution_count": 27,
     "metadata": {},
     "output_type": "execute_result"
    }
   ],
   "source": [
    "df[df['default'] == 0].shape"
   ]
  },
  {
   "cell_type": "code",
   "execution_count": 28,
   "id": "8927dac6",
   "metadata": {
    "execution": {
     "iopub.execute_input": "2024-02-07T17:17:36.404508Z",
     "iopub.status.busy": "2024-02-07T17:17:36.404150Z",
     "iopub.status.idle": "2024-02-07T17:17:36.411189Z",
     "shell.execute_reply": "2024-02-07T17:17:36.410405Z"
    },
    "papermill": {
     "duration": 0.026005,
     "end_time": "2024-02-07T17:17:36.412910",
     "exception": false,
     "start_time": "2024-02-07T17:17:36.386905",
     "status": "completed"
    },
    "tags": []
   },
   "outputs": [
    {
     "data": {
      "text/plain": [
       "(1113, 16)"
      ]
     },
     "execution_count": 28,
     "metadata": {},
     "output_type": "execute_result"
    }
   ],
   "source": [
    "df[df['default'] == 1].shape"
   ]
  },
  {
   "cell_type": "code",
   "execution_count": 29,
   "id": "4004fb8b",
   "metadata": {
    "execution": {
     "iopub.execute_input": "2024-02-07T17:17:36.449830Z",
     "iopub.status.busy": "2024-02-07T17:17:36.449503Z",
     "iopub.status.idle": "2024-02-07T17:17:36.456431Z",
     "shell.execute_reply": "2024-02-07T17:17:36.455511Z"
    },
    "papermill": {
     "duration": 0.027653,
     "end_time": "2024-02-07T17:17:36.458085",
     "exception": false,
     "start_time": "2024-02-07T17:17:36.430432",
     "status": "completed"
    },
    "tags": []
   },
   "outputs": [],
   "source": [
    "qtd_total_novo, _ = df.shape\n",
    "qtd_adimplentes_novo, _ = df[df['default'] == 0].shape\n",
    "qtd_inadimplentes_novo, _ = df[df['default'] == 1].shape"
   ]
  },
  {
   "cell_type": "code",
   "execution_count": 30,
   "id": "f4a1aa6f",
   "metadata": {
    "execution": {
     "iopub.execute_input": "2024-02-07T17:17:36.493146Z",
     "iopub.status.busy": "2024-02-07T17:17:36.492816Z",
     "iopub.status.idle": "2024-02-07T17:17:36.498065Z",
     "shell.execute_reply": "2024-02-07T17:17:36.497206Z"
    },
    "papermill": {
     "duration": 0.02448,
     "end_time": "2024-02-07T17:17:36.499812",
     "exception": false,
     "start_time": "2024-02-07T17:17:36.475332",
     "status": "completed"
    },
    "tags": []
   },
   "outputs": [
    {
     "name": "stdout",
     "output_type": "stream",
     "text": [
      "A proporcão adimplentes ativos é de 83.93%\n",
      "A nova proporcão de clientes adimplentes é de 84.28%\n",
      "\n",
      "A proporcão clientes inadimplentes é de 16.07%\n",
      "A nova proporcão de clientes inadimplentes é de 15.72%\n"
     ]
    }
   ],
   "source": [
    "print(f\"A proporcão adimplentes ativos é de \" + \\\n",
    " f\"{round(100 * qtd_adimplentes / qtd_total, 2)}%\"\n",
    " )\n",
    "print(f\"A nova proporcão de clientes adimplentes é de \" + \\\n",
    "       f\"{round(100 * qtd_adimplentes_novo / qtd_total_novo, 2)}%\"\n",
    " )\n",
    "print(\"\")\n",
    "print(f\"A proporcão clientes inadimplentes é de \" + \\\n",
    " f\"{round(100 * qtd_inadimplentes / qtd_total, 2)}%\"\n",
    " )\n",
    "print(f\"A nova proporcão de clientes inadimplentes é de \" + \\\n",
    " f\"{round(100 * qtd_inadimplentes_novo / qtd_total_novo, 2)}%\"\n",
    " )"
   ]
  },
  {
   "cell_type": "markdown",
   "id": "36d61f56",
   "metadata": {
    "papermill": {
     "duration": 0.015812,
     "end_time": "2024-02-07T17:17:36.532256",
     "exception": false,
     "start_time": "2024-02-07T17:17:36.516444",
     "status": "completed"
    },
    "tags": []
   },
   "source": [
    "# Visualização de Dados"
   ]
  },
  {
   "cell_type": "markdown",
   "id": "28d9bc3b",
   "metadata": {
    "papermill": {
     "duration": 0.015923,
     "end_time": "2024-02-07T17:17:36.564217",
     "exception": false,
     "start_time": "2024-02-07T17:17:36.548294",
     "status": "completed"
    },
    "tags": []
   },
   "source": [
    "Os dados estão prontos, vamos criar diversas visualizações para correlacionar variáveis\n",
    "explicativas com a variável resposta para buscar entender qual fator leva um cliente a\n",
    "inadimplencia. E para isso, vamos sempre comparar a base com todos os clientes com a base\n",
    "de adimplentes e inadimplentes."
   ]
  },
  {
   "cell_type": "code",
   "execution_count": 31,
   "id": "e4d4646d",
   "metadata": {
    "execution": {
     "iopub.execute_input": "2024-02-07T17:17:36.597960Z",
     "iopub.status.busy": "2024-02-07T17:17:36.597628Z",
     "iopub.status.idle": "2024-02-07T17:17:36.604156Z",
     "shell.execute_reply": "2024-02-07T17:17:36.603504Z"
    },
    "papermill": {
     "duration": 0.025788,
     "end_time": "2024-02-07T17:17:36.605781",
     "exception": false,
     "start_time": "2024-02-07T17:17:36.579993",
     "status": "completed"
    },
    "tags": []
   },
   "outputs": [],
   "source": [
    "sns.set_style(\"whitegrid\")\n",
    "\n",
    "df_adimplente = df[df['default'] == 0]\n",
    "df_inadimplente = df[df['default'] == 1]"
   ]
  },
  {
   "cell_type": "markdown",
   "id": "33081f13",
   "metadata": {
    "papermill": {
     "duration": 0.015665,
     "end_time": "2024-02-07T17:17:36.637605",
     "exception": false,
     "start_time": "2024-02-07T17:17:36.621940",
     "status": "completed"
    },
    "tags": []
   },
   "source": [
    "1. **Visualizações categóricas**"
   ]
  },
  {
   "cell_type": "markdown",
   "id": "98677190",
   "metadata": {
    "papermill": {
     "duration": 0.016064,
     "end_time": "2024-02-07T17:17:36.669487",
     "exception": false,
     "start_time": "2024-02-07T17:17:36.653423",
     "status": "completed"
    },
    "tags": []
   },
   "source": [
    "Nesta seção, vamos visualizar a relação entre a variável resposta default com os atributos\n",
    "categóricos."
   ]
  },
  {
   "cell_type": "code",
   "execution_count": 32,
   "id": "73276324",
   "metadata": {
    "execution": {
     "iopub.execute_input": "2024-02-07T17:17:36.703321Z",
     "iopub.status.busy": "2024-02-07T17:17:36.703033Z",
     "iopub.status.idle": "2024-02-07T17:17:36.714310Z",
     "shell.execute_reply": "2024-02-07T17:17:36.713413Z"
    },
    "papermill": {
     "duration": 0.030421,
     "end_time": "2024-02-07T17:17:36.716027",
     "exception": false,
     "start_time": "2024-02-07T17:17:36.685606",
     "status": "completed"
    },
    "tags": []
   },
   "outputs": [
    {
     "data": {
      "text/html": [
       "<div>\n",
       "<style scoped>\n",
       "    .dataframe tbody tr th:only-of-type {\n",
       "        vertical-align: middle;\n",
       "    }\n",
       "\n",
       "    .dataframe tbody tr th {\n",
       "        vertical-align: top;\n",
       "    }\n",
       "\n",
       "    .dataframe thead th {\n",
       "        text-align: right;\n",
       "    }\n",
       "</style>\n",
       "<table border=\"1\" class=\"dataframe\">\n",
       "  <thead>\n",
       "    <tr style=\"text-align: right;\">\n",
       "      <th></th>\n",
       "      <th>sexo</th>\n",
       "      <th>escolaridade</th>\n",
       "      <th>estado_civil</th>\n",
       "      <th>salario_anual</th>\n",
       "      <th>tipo_cartao</th>\n",
       "    </tr>\n",
       "  </thead>\n",
       "  <tbody>\n",
       "    <tr>\n",
       "      <th>0</th>\n",
       "      <td>M</td>\n",
       "      <td>ensino medio</td>\n",
       "      <td>casado</td>\n",
       "      <td>$60K - $80K</td>\n",
       "      <td>blue</td>\n",
       "    </tr>\n",
       "    <tr>\n",
       "      <th>1</th>\n",
       "      <td>F</td>\n",
       "      <td>mestrado</td>\n",
       "      <td>solteiro</td>\n",
       "      <td>menos que $40K</td>\n",
       "      <td>blue</td>\n",
       "    </tr>\n",
       "    <tr>\n",
       "      <th>2</th>\n",
       "      <td>M</td>\n",
       "      <td>mestrado</td>\n",
       "      <td>casado</td>\n",
       "      <td>$80K - $120K</td>\n",
       "      <td>blue</td>\n",
       "    </tr>\n",
       "    <tr>\n",
       "      <th>4</th>\n",
       "      <td>M</td>\n",
       "      <td>sem educacao formal</td>\n",
       "      <td>casado</td>\n",
       "      <td>$60K - $80K</td>\n",
       "      <td>blue</td>\n",
       "    </tr>\n",
       "    <tr>\n",
       "      <th>5</th>\n",
       "      <td>M</td>\n",
       "      <td>mestrado</td>\n",
       "      <td>casado</td>\n",
       "      <td>$40K - $60K</td>\n",
       "      <td>blue</td>\n",
       "    </tr>\n",
       "  </tbody>\n",
       "</table>\n",
       "</div>"
      ],
      "text/plain": [
       "  sexo         escolaridade estado_civil   salario_anual tipo_cartao\n",
       "0    M         ensino medio       casado     $60K - $80K        blue\n",
       "1    F             mestrado     solteiro  menos que $40K        blue\n",
       "2    M             mestrado       casado    $80K - $120K        blue\n",
       "4    M  sem educacao formal       casado     $60K - $80K        blue\n",
       "5    M             mestrado       casado     $40K - $60K        blue"
      ]
     },
     "execution_count": 32,
     "metadata": {},
     "output_type": "execute_result"
    }
   ],
   "source": [
    "df.select_dtypes('object').head(n=5)"
   ]
  },
  {
   "cell_type": "markdown",
   "id": "f2842081",
   "metadata": {
    "papermill": {
     "duration": 0.016461,
     "end_time": "2024-02-07T17:17:36.750075",
     "exception": false,
     "start_time": "2024-02-07T17:17:36.733614",
     "status": "completed"
    },
    "tags": []
   },
   "source": [
    "* Estado Civil dos Clientes"
   ]
  },
  {
   "cell_type": "code",
   "execution_count": 33,
   "id": "29ebae6b",
   "metadata": {
    "execution": {
     "iopub.execute_input": "2024-02-07T17:17:36.785471Z",
     "iopub.status.busy": "2024-02-07T17:17:36.784356Z",
     "iopub.status.idle": "2024-02-07T17:17:37.470067Z",
     "shell.execute_reply": "2024-02-07T17:17:37.469195Z"
    },
    "papermill": {
     "duration": 0.704966,
     "end_time": "2024-02-07T17:17:37.471803",
     "exception": false,
     "start_time": "2024-02-07T17:17:36.766837",
     "status": "completed"
    },
    "tags": []
   },
   "outputs": [
    {
     "data": {
      "image/png": "[encoded data removed]",
      "text/plain": [
       "<Figure size 2000x500 with 3 Axes>"
      ]
     },
     "metadata": {},
     "output_type": "display_data"
    }
   ],
   "source": [
    "coluna = 'estado_civil'\n",
    "titulos = ['Estado Civil dos Clientes', 'Estado Civil de Adimplentes', 'Estado Civil de Inadimplentes']\n",
    "\n",
    "eixo = 0\n",
    "max_y = 0\n",
    "figura, eixos = plt.subplots(1,3, figsize=(20, 5), sharex=True)\n",
    "\n",
    "for dataframe in [df, df_adimplente, df_inadimplente]:\n",
    "\n",
    "  f = sns.histplot(x=coluna, data=dataframe, stat='count', ax=eixos[eixo])\n",
    "  f.set(title=titulos[eixo], xlabel=coluna.capitalize(), ylabel='Frequência Absoluta')\n",
    "\n",
    "  _, max_y_f = f.get_ylim()\n",
    "  max_y = max_y_f if max_y_f > max_y else max_y\n",
    "  f.set(ylim=(0, max_y))\n",
    "\n",
    "  eixo += 1\n",
    "\n",
    "figura.show()"
   ]
  },
  {
   "cell_type": "markdown",
   "id": "238c0f5e",
   "metadata": {
    "papermill": {
     "duration": 0.018103,
     "end_time": "2024-02-07T17:17:37.508085",
     "exception": false,
     "start_time": "2024-02-07T17:17:37.489982",
     "status": "completed"
    },
    "tags": []
   },
   "source": [
    "* Tipo de Cartão"
   ]
  },
  {
   "cell_type": "code",
   "execution_count": 34,
   "id": "8ede0b6a",
   "metadata": {
    "execution": {
     "iopub.execute_input": "2024-02-07T17:17:37.544005Z",
     "iopub.status.busy": "2024-02-07T17:17:37.543015Z",
     "iopub.status.idle": "2024-02-07T17:17:38.211592Z",
     "shell.execute_reply": "2024-02-07T17:17:38.210668Z"
    },
    "papermill": {
     "duration": 0.688162,
     "end_time": "2024-02-07T17:17:38.213327",
     "exception": false,
     "start_time": "2024-02-07T17:17:37.525165",
     "status": "completed"
    },
    "tags": []
   },
   "outputs": [
    {
     "data": {
      "image/png": "[encoded data removed]",
      "text/plain": [
       "<Figure size 2000x500 with 3 Axes>"
      ]
     },
     "metadata": {},
     "output_type": "display_data"
    }
   ],
   "source": [
    "coluna = 'tipo_cartao'\n",
    "titulos = ['Tipo de cartão dos Clientes',\n",
    "           'Tipo de cartão de Adimplentes', \n",
    "           'Tipo de cartão de Inadimplentes'\n",
    "          ]\n",
    "\n",
    "eixo = 0\n",
    "max_y = 0\n",
    "figura, eixos = plt.subplots(1,3, figsize=(20, 5), sharex=True)\n",
    "\n",
    "for dataframe in [df, df_adimplente, df_inadimplente]:\n",
    "\n",
    "  f = sns.histplot(x=coluna, data=dataframe, stat='count', ax=eixos[eixo])\n",
    "  f.set(title=titulos[eixo], xlabel=coluna.capitalize(), ylabel='Frequência Absoluta')\n",
    "\n",
    "  _, max_y_f = f.get_ylim()\n",
    "  max_y = max_y_f if max_y_f > max_y else max_y\n",
    "  f.set(ylim=(0, max_y))\n",
    "\n",
    "  eixo += 1\n",
    "\n",
    "figura.show()"
   ]
  },
  {
   "cell_type": "markdown",
   "id": "a1337cbe",
   "metadata": {
    "papermill": {
     "duration": 0.017266,
     "end_time": "2024-02-07T17:17:38.248340",
     "exception": false,
     "start_time": "2024-02-07T17:17:38.231074",
     "status": "completed"
    },
    "tags": []
   },
   "source": [
    "**2. Visualizações Numéricas**"
   ]
  },
  {
   "cell_type": "markdown",
   "id": "5491b454",
   "metadata": {
    "papermill": {
     "duration": 0.017323,
     "end_time": "2024-02-07T17:17:38.284955",
     "exception": false,
     "start_time": "2024-02-07T17:17:38.267632",
     "status": "completed"
    },
    "tags": []
   },
   "source": [
    "Agora, iremos ver a relação entre a variavel resposta default com os atributos numéricos"
   ]
  },
  {
   "cell_type": "code",
   "execution_count": 35,
   "id": "e2885fa3",
   "metadata": {
    "execution": {
     "iopub.execute_input": "2024-02-07T17:17:38.322007Z",
     "iopub.status.busy": "2024-02-07T17:17:38.321682Z",
     "iopub.status.idle": "2024-02-07T17:17:38.336043Z",
     "shell.execute_reply": "2024-02-07T17:17:38.335077Z"
    },
    "papermill": {
     "duration": 0.035268,
     "end_time": "2024-02-07T17:17:38.337836",
     "exception": false,
     "start_time": "2024-02-07T17:17:38.302568",
     "status": "completed"
    },
    "tags": []
   },
   "outputs": [
    {
     "data": {
      "text/html": [
       "<div>\n",
       "<style scoped>\n",
       "    .dataframe tbody tr th:only-of-type {\n",
       "        vertical-align: middle;\n",
       "    }\n",
       "\n",
       "    .dataframe tbody tr th {\n",
       "        vertical-align: top;\n",
       "    }\n",
       "\n",
       "    .dataframe thead th {\n",
       "        text-align: right;\n",
       "    }\n",
       "</style>\n",
       "<table border=\"1\" class=\"dataframe\">\n",
       "  <thead>\n",
       "    <tr style=\"text-align: right;\">\n",
       "      <th></th>\n",
       "      <th>idade</th>\n",
       "      <th>dependentes</th>\n",
       "      <th>meses_de_relacionamento</th>\n",
       "      <th>qtd_produtos</th>\n",
       "      <th>iteracoes_12m</th>\n",
       "      <th>meses_inativo_12m</th>\n",
       "      <th>limite_credito</th>\n",
       "      <th>valor_transacoes_12m</th>\n",
       "      <th>qtd_transacoes_12m</th>\n",
       "    </tr>\n",
       "  </thead>\n",
       "  <tbody>\n",
       "    <tr>\n",
       "      <th>0</th>\n",
       "      <td>45</td>\n",
       "      <td>3</td>\n",
       "      <td>39</td>\n",
       "      <td>5</td>\n",
       "      <td>3</td>\n",
       "      <td>1</td>\n",
       "      <td>12691.51</td>\n",
       "      <td>1144.90</td>\n",
       "      <td>42</td>\n",
       "    </tr>\n",
       "    <tr>\n",
       "      <th>1</th>\n",
       "      <td>49</td>\n",
       "      <td>5</td>\n",
       "      <td>44</td>\n",
       "      <td>6</td>\n",
       "      <td>2</td>\n",
       "      <td>1</td>\n",
       "      <td>8256.96</td>\n",
       "      <td>1291.45</td>\n",
       "      <td>33</td>\n",
       "    </tr>\n",
       "    <tr>\n",
       "      <th>2</th>\n",
       "      <td>51</td>\n",
       "      <td>3</td>\n",
       "      <td>36</td>\n",
       "      <td>4</td>\n",
       "      <td>0</td>\n",
       "      <td>1</td>\n",
       "      <td>3418.56</td>\n",
       "      <td>1887.72</td>\n",
       "      <td>20</td>\n",
       "    </tr>\n",
       "    <tr>\n",
       "      <th>4</th>\n",
       "      <td>40</td>\n",
       "      <td>3</td>\n",
       "      <td>21</td>\n",
       "      <td>5</td>\n",
       "      <td>0</td>\n",
       "      <td>1</td>\n",
       "      <td>4716.22</td>\n",
       "      <td>816.08</td>\n",
       "      <td>28</td>\n",
       "    </tr>\n",
       "    <tr>\n",
       "      <th>5</th>\n",
       "      <td>44</td>\n",
       "      <td>2</td>\n",
       "      <td>36</td>\n",
       "      <td>3</td>\n",
       "      <td>2</td>\n",
       "      <td>1</td>\n",
       "      <td>4010.69</td>\n",
       "      <td>1088.07</td>\n",
       "      <td>24</td>\n",
       "    </tr>\n",
       "  </tbody>\n",
       "</table>\n",
       "</div>"
      ],
      "text/plain": [
       "   idade  dependentes  meses_de_relacionamento  qtd_produtos  iteracoes_12m  \\\n",
       "0     45            3                       39             5              3   \n",
       "1     49            5                       44             6              2   \n",
       "2     51            3                       36             4              0   \n",
       "4     40            3                       21             5              0   \n",
       "5     44            2                       36             3              2   \n",
       "\n",
       "   meses_inativo_12m  limite_credito  valor_transacoes_12m  qtd_transacoes_12m  \n",
       "0                  1        12691.51               1144.90                  42  \n",
       "1                  1         8256.96               1291.45                  33  \n",
       "2                  1         3418.56               1887.72                  20  \n",
       "4                  1         4716.22                816.08                  28  \n",
       "5                  1         4010.69               1088.07                  24  "
      ]
     },
     "execution_count": 35,
     "metadata": {},
     "output_type": "execute_result"
    }
   ],
   "source": [
    "df.drop(['id', 'default'], axis=1).select_dtypes('number').head(n=5)"
   ]
  },
  {
   "cell_type": "markdown",
   "id": "a9a78aac",
   "metadata": {
    "papermill": {
     "duration": 0.01712,
     "end_time": "2024-02-07T17:17:38.372918",
     "exception": false,
     "start_time": "2024-02-07T17:17:38.355798",
     "status": "completed"
    },
    "tags": []
   },
   "source": [
    "Quantidade das transações nos Últimos 12 Meses"
   ]
  },
  {
   "cell_type": "code",
   "execution_count": 36,
   "id": "99b8392f",
   "metadata": {
    "execution": {
     "iopub.execute_input": "2024-02-07T17:17:38.410469Z",
     "iopub.status.busy": "2024-02-07T17:17:38.410164Z",
     "iopub.status.idle": "2024-02-07T17:17:39.401180Z",
     "shell.execute_reply": "2024-02-07T17:17:39.400207Z"
    },
    "papermill": {
     "duration": 1.013491,
     "end_time": "2024-02-07T17:17:39.403443",
     "exception": false,
     "start_time": "2024-02-07T17:17:38.389952",
     "status": "completed"
    },
    "tags": []
   },
   "outputs": [
    {
     "data": {
      "image/png": "[encoded data removed]",
      "text/plain": [
       "<Figure size 2000x500 with 3 Axes>"
      ]
     },
     "metadata": {},
     "output_type": "display_data"
    }
   ],
   "source": [
    "coluna = 'qtd_transacoes_12m'\n",
    "titulos = [\n",
    "    'Qtd. de Transações no Último Ano',\n",
    "    'Qtd. de Transações no Último Ano de Adimplentes',\n",
    "    'Qtd. de Transações no Último Ano de Inadimplentes'\n",
    "]\n",
    "eixo = 0\n",
    "max_y = 0\n",
    "figura, eixos = plt.subplots(1,3, figsize=(20, 5), sharex=True)\n",
    "for dataframe in [df, df_adimplente, df_inadimplente]:\n",
    "    f = sns.histplot(x=coluna, data=dataframe, stat='count', ax=eixos[eixo])\n",
    "    f.set(\n",
    "        title=titulos[eixo],\n",
    "        xlabel=coluna.capitalize(),\n",
    "        ylabel='Frequência Absoluta'\n",
    "    )\n",
    "    _, max_y_f = f.get_ylim()\n",
    "    max_y = max_y_f if max_y_f > max_y else max_y\n",
    "    f.set(ylim=(0, max_y))\n",
    "    \n",
    "    eixo += 1\n",
    "    \n",
    "figura.show()"
   ]
  },
  {
   "cell_type": "markdown",
   "id": "fef5af0d",
   "metadata": {
    "papermill": {
     "duration": 0.018789,
     "end_time": "2024-02-07T17:17:39.440878",
     "exception": false,
     "start_time": "2024-02-07T17:17:39.422089",
     "status": "completed"
    },
    "tags": []
   },
   "source": [
    "Valor das Transações nos Últimos 12 Meses"
   ]
  },
  {
   "cell_type": "code",
   "execution_count": 37,
   "id": "7543e2e1",
   "metadata": {
    "execution": {
     "iopub.execute_input": "2024-02-07T17:17:39.480586Z",
     "iopub.status.busy": "2024-02-07T17:17:39.480244Z",
     "iopub.status.idle": "2024-02-07T17:17:40.644157Z",
     "shell.execute_reply": "2024-02-07T17:17:40.642926Z"
    },
    "papermill": {
     "duration": 1.186341,
     "end_time": "2024-02-07T17:17:40.646416",
     "exception": false,
     "start_time": "2024-02-07T17:17:39.460075",
     "status": "completed"
    },
    "tags": []
   },
   "outputs": [
    {
     "data": {
      "image/png": "[encoded data removed]",
      "text/plain": [
       "<Figure size 2000x500 with 3 Axes>"
      ]
     },
     "metadata": {},
     "output_type": "display_data"
    }
   ],
   "source": [
    "coluna = 'valor_transacoes_12m'\n",
    "titulos = [\n",
    "    'Qtd. de Transações no Último Ano',\n",
    "    'Qtd. de Transações no Último Ano de Adimplentes',\n",
    "    'Qtd. de Transações no Último Ano de Inadimplentes'\n",
    "]\n",
    "eixo = 0\n",
    "max_y = 0\n",
    "figura, eixos = plt.subplots(1,3, figsize=(20, 5), sharex=True)\n",
    "for dataframe in [df, df_adimplente, df_inadimplente]:\n",
    "    f = sns.histplot(x=coluna, data=dataframe, stat='count', ax=eixos[eixo])\n",
    "    f.set(\n",
    "        title=titulos[eixo],\n",
    "        xlabel=coluna.capitalize(),\n",
    "        ylabel='Frequência Absoluta'\n",
    "    )\n",
    "    _, max_y_f = f.get_ylim()\n",
    "    max_y = max_y_f if max_y_f > max_y else max_y\n",
    "    f.set(ylim=(0, max_y))\n",
    "    \n",
    "    eixo += 1\n",
    "    \n",
    "figura.show()"
   ]
  },
  {
   "cell_type": "markdown",
   "id": "53f43059",
   "metadata": {
    "papermill": {
     "duration": 0.018406,
     "end_time": "2024-02-07T17:17:40.684767",
     "exception": false,
     "start_time": "2024-02-07T17:17:40.666361",
     "status": "completed"
    },
    "tags": []
   },
   "source": [
    "3. Valor de Transações nos Últimos 12 Meses x Quantidade de Transções nos Últimos 12 Meses"
   ]
  },
  {
   "cell_type": "code",
   "execution_count": 38,
   "id": "bd47f5b1",
   "metadata": {
    "execution": {
     "iopub.execute_input": "2024-02-07T17:17:40.723468Z",
     "iopub.status.busy": "2024-02-07T17:17:40.723140Z",
     "iopub.status.idle": "2024-02-07T17:17:41.808579Z",
     "shell.execute_reply": "2024-02-07T17:17:41.807912Z"
    },
    "papermill": {
     "duration": 1.107135,
     "end_time": "2024-02-07T17:17:41.810648",
     "exception": false,
     "start_time": "2024-02-07T17:17:40.703513",
     "status": "completed"
    },
    "tags": []
   },
   "outputs": [
    {
     "data": {
      "image/png": "[encoded data removed]",
      "text/plain": [
       "<Figure size 560.236x500 with 1 Axes>"
      ]
     },
     "metadata": {},
     "output_type": "display_data"
    }
   ],
   "source": [
    "f = sns.relplot(\n",
    "    x='valor_transacoes_12m',\n",
    "    y='qtd_transacoes_12m',\n",
    "    data=df,\n",
    "    hue='default'\n",
    ")\n",
    "\n",
    "_ = f.set(\n",
    "    title='Relação entre Valor e Quantidade de Transações no Último Ano',\n",
    "    xlabel='Valor das Transações no Último Ano',\n",
    "    ylabel='Quantidade das Transações no Último Ano'\n",
    ")"
   ]
  },
  {
   "cell_type": "markdown",
   "id": "cf21bed2",
   "metadata": {
    "papermill": {
     "duration": 0.019171,
     "end_time": "2024-02-07T17:17:41.849763",
     "exception": false,
     "start_time": "2024-02-07T17:17:41.830592",
     "status": "completed"
    },
    "tags": []
   },
   "source": [
    "-----------------------------------------------------------------------------"
   ]
  },
  {
   "cell_type": "markdown",
   "id": "efda06c0",
   "metadata": {
    "papermill": {
     "duration": 0.018968,
     "end_time": "2024-02-07T17:17:41.888144",
     "exception": false,
     "start_time": "2024-02-07T17:17:41.869176",
     "status": "completed"
    },
    "tags": []
   },
   "source": [
    "# Insights sobre a análise"
   ]
  },
  {
   "cell_type": "markdown",
   "id": "63e249de",
   "metadata": {
    "papermill": {
     "duration": 0.01909,
     "end_time": "2024-02-07T17:17:41.926271",
     "exception": false,
     "start_time": "2024-02-07T17:17:41.907181",
     "status": "completed"
    },
    "tags": []
   },
   "source": [
    "Os dados analisados foram tratados de forma que todos os valores vazios foram substituidos por valores computáveis, levando em conta que para tratar os dados em sua totalidade precisamos de parcialidade e exatidão.\n",
    "\n",
    "No início do projeto, fizemos a leitura de todos os dados e analisamos para saber quais os tipos de análises precisaríamos realizar. \n",
    "\n",
    "Ao realizar a montagem dos dados na etapa de Transformação e Limpeza, fizemos o uso dos schemas para tratar os dados com maior fluidez, atribuindo a cada um deles um tipo exato e determinante. Podemos inclusive, ver um calculo da porcentagem de clientes adimplentes e inadimplentes após a remoção dos dados em falha.\n",
    "\n",
    "Por último, na etapa de visualização, usamos as ferramentas poderosas de montagem e plotagem de gráficos do Python, diretamente da biblioteca Seaborn.\n",
    "Fiz diferentes análises de diferentes tipos de dados, unificando duas comparações no final para exibir os dados de forma geral e esquematizada."
   ]
  },
  {
   "cell_type": "markdown",
   "id": "c008830a",
   "metadata": {
    "papermill": {
     "duration": 0.018757,
     "end_time": "2024-02-07T17:17:41.964151",
     "exception": false,
     "start_time": "2024-02-07T17:17:41.945394",
     "status": "completed"
    },
    "tags": []
   },
   "source": [
    "--------------------"
   ]
  },
  {
   "cell_type": "markdown",
   "id": "21bb995a",
   "metadata": {
    "papermill": {
     "duration": 0.019122,
     "end_time": "2024-02-07T17:17:42.002243",
     "exception": false,
     "start_time": "2024-02-07T17:17:41.983121",
     "status": "completed"
    },
    "tags": []
   },
   "source": [
    "# Considerações Finais"
   ]
  },
  {
   "cell_type": "markdown",
   "id": "10dce9c1",
   "metadata": {
    "papermill": {
     "duration": 0.019325,
     "end_time": "2024-02-07T17:17:42.041255",
     "exception": false,
     "start_time": "2024-02-07T17:17:42.021930",
     "status": "completed"
    },
    "tags": []
   },
   "source": [
    "Gostaria de agradecer a EBAC e ao professor André por proporcionar essa experiência de aprendizado incrível durante todos os módulos do curso de Python para análise de dados.\n",
    "Foi de extrema importância e satisfação realizar este projeto contando com o apoio dos tutores e da comunidade EBAC."
   ]
  }
 ],
 "metadata": {
  "kaggle": {
   "accelerator": "none",
   "dataSources": [
    {
     "datasetId": 4372924,
     "sourceId": 7508443,
     "sourceType": "datasetVersion"
    }
   ],
   "dockerImageVersionId": 30635,
   "isGpuEnabled": false,
   "isInternetEnabled": true,
   "language": "python",
   "sourceType": "notebook"
  },
  "kernelspec": {
   "display_name": "Python 3",
   "language": "python",
   "name": "python3"
  },
  "language_info": {
   "codemirror_mode": {
    "name": "ipython",
    "version": 3
   },
   "file_extension": ".py",
   "mimetype": "text/x-python",
   "name": "python",
   "nbconvert_exporter": "python",
   "pygments_lexer": "ipython3",
   "version": "3.10.12"
  },
  "papermill": {
   "default_parameters": {},
   "duration": 13.886667,
   "end_time": "2024-02-07T17:17:42.579205",
   "environment_variables": {},
   "exception": null,
   "input_path": "__notebook__.ipynb",
   "output_path": "__notebook__.ipynb",
   "parameters": {},
   "start_time": "2024-02-07T17:17:28.692538",
   "version": "2.4.0"
  }
 },
 "nbformat": 4,
 "nbformat_minor": 5
}
