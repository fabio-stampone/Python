{
  "nbformat": 4,
  "nbformat_minor": 0,
  "metadata": {
    "colab": {
      "provenance": [],
      "toc_visible": true
    },
    "kernelspec": {
      "name": "python3",
      "display_name": "Python 3"
    }
  },
  "cells": [
    {
      "cell_type": "markdown",
      "metadata": {
        "id": "KJqp9AANOCtf"
      },
      "source": [
        "<img src=\"https://raw.githubusercontent.com/andre-marcos-perez/ebac-course-utils/main/media/logo/newebac_logo_black_half.png\" alt=\"ebac-logo\">\n",
        "\n",
        "---\n",
        "\n",
        "# **Módulo 02** | Python: Estruturas de Dados\n",
        "Caderno de **Exercícios**<br>\n",
        "Professor [André Perez](https://www.linkedin.com/in/andremarcosperez/)\n",
        "\n",
        "---"
      ]
    },
    {
      "cell_type": "markdown",
      "metadata": {
        "id": "d9jDtUbDOE1-"
      },
      "source": [
        "# **Tópicos**\n",
        "\n",
        "<ol type=\"1\">\n",
        "  <li>Listas;</li>\n",
        "  <li>Conjuntos;</li>\n",
        "  <li>Dicionários.</li>\n",
        "</ol>"
      ]
    },
    {
      "cell_type": "markdown",
      "metadata": {
        "id": "SmoHgt-lwkpD"
      },
      "source": [
        "---"
      ]
    },
    {
      "cell_type": "markdown",
      "metadata": {
        "id": "GABI6OW8OfQ2"
      },
      "source": [
        "# **Exercícios**"
      ]
    },
    {
      "cell_type": "markdown",
      "metadata": {
        "id": "muD1vxozykSC"
      },
      "source": [
        "## 1\\. Listas"
      ]
    },
    {
      "cell_type": "markdown",
      "metadata": {
        "id": "ahrFfCuBxJKs"
      },
      "source": [
        "Criei uma lista chamada `filmes` com o nome dos 10 primeiros filmes mais bem avaliados no site no [IMDB](https://www.imdb.com/chart/top/). Imprima o resultado."
      ]
    },
    {
      "cell_type": "code",
      "metadata": {
        "id": "OgL6Hv3bzOHI",
        "colab": {
          "base_uri": "https://localhost:8080/"
        },
        "outputId": "56b79a49-c9e4-4cf2-e147-e59083216f64"
      },
      "source": [
        "filmes = ['Um Sonho de Liberdade', 'O Poderoso Chefão', 'Batman: O Cavaleiro das Trevas', 'O Poderoso Chefão II', '12 Homens e uma sentença', 'A lista de schindler', 'O Senhor dos Anéis: O Retorno do Rei', 'Pulp Fiction', 'O Senhor dos Anéis: A sociedade do Anel', 'Três homens em conflito']\n",
        "\n",
        "print(filmes)"
      ],
      "execution_count": 30,
      "outputs": [
        {
          "output_type": "stream",
          "name": "stdout",
          "text": [
            "['Um Sonho de Liberdade', 'O Poderoso Chefão', 'Batman: O Cavaleiro das Trevas', 'O Poderoso Chefão II', '12 Homens e uma sentença', 'A lista de schindler', 'O Senhor dos Anéis: O Retorno do Rei', 'Pulp Fiction', 'O Senhor dos Anéis: A sociedade do Anel', 'Três homens em conflito']\n"
          ]
        }
      ]
    },
    {
      "cell_type": "markdown",
      "metadata": {
        "id": "KI9zQRT2xa7m"
      },
      "source": [
        "Simule a movimentação do *ranking*. Utilize os métodos `insert` e `pop` para trocar a posição do primeiro e do segundo filme da lista. Imprima o resultado.\n",
        "\n"
      ]
    },
    {
      "cell_type": "code",
      "metadata": {
        "id": "zX3mA3_GzrXH",
        "colab": {
          "base_uri": "https://localhost:8080/"
        },
        "outputId": "4896ec18-f0ca-4a8a-e8eb-db850923b1c1"
      },
      "source": [
        "filmes.pop(0)\n",
        "filmes.pop(0)\n",
        "\n",
        "filmes.insert(0, 'Um Sonho de Liberdade')\n",
        "filmes.insert(0, 'O Poderoso Chefão')\n",
        "\n",
        "print(filmes)"
      ],
      "execution_count": 31,
      "outputs": [
        {
          "output_type": "stream",
          "name": "stdout",
          "text": [
            "['O Poderoso Chefão', 'Um Sonho de Liberdade', 'Batman: O Cavaleiro das Trevas', 'O Poderoso Chefão II', '12 Homens e uma sentença', 'A lista de schindler', 'O Senhor dos Anéis: O Retorno do Rei', 'Pulp Fiction', 'O Senhor dos Anéis: A sociedade do Anel', 'Três homens em conflito']\n"
          ]
        }
      ]
    },
    {
      "cell_type": "markdown",
      "metadata": {
        "id": "zMN1Q3jdwoJm"
      },
      "source": [
        "---"
      ]
    },
    {
      "cell_type": "markdown",
      "metadata": {
        "id": "lxa5L6uF0ZJE"
      },
      "source": [
        "## 2\\. Conjuntos"
      ]
    },
    {
      "cell_type": "markdown",
      "metadata": {
        "id": "9JahS2Kj0d5u"
      },
      "source": [
        "Aconteceu um erro no seu *ranking*. Simule a duplicação dos três últimos filmes da lista. Imprima o resultado.\n"
      ]
    },
    {
      "cell_type": "code",
      "metadata": {
        "id": "BnjnLBNC6PGe",
        "colab": {
          "base_uri": "https://localhost:8080/"
        },
        "outputId": "f354421e-0b35-428a-abde-3ce7e9221b54"
      },
      "source": [
        "filmes_duplicados = ['Um Sonho de Liberdade', 'O Poderoso Chefão', 'Batman: O Cavaleiro das Trevas', 'O Poderoso Chefão II', '12 Homens e uma sentença', 'A lista de schindler', 'O Senhor dos Anéis: O Retorno do Rei', 'Pulp Fiction', 'O Senhor dos Anéis: A sociedade do Anel', 'Três homens em conflito', 'Pulp Fiction', 'O Senhor dos Anéis: A sociedade do Anel', 'Três homens em conflito']\n",
        "\n",
        "print(filmes_duplicados)"
      ],
      "execution_count": 35,
      "outputs": [
        {
          "output_type": "stream",
          "name": "stdout",
          "text": [
            "['Um Sonho de Liberdade', 'O Poderoso Chefão', 'Batman: O Cavaleiro das Trevas', 'O Poderoso Chefão II', '12 Homens e uma sentença', 'A lista de schindler', 'O Senhor dos Anéis: O Retorno do Rei', 'Pulp Fiction', 'O Senhor dos Anéis: A sociedade do Anel', 'Três homens em conflito', 'Pulp Fiction', 'O Senhor dos Anéis: A sociedade do Anel', 'Três homens em conflito']\n"
          ]
        }
      ]
    },
    {
      "cell_type": "markdown",
      "metadata": {
        "id": "suxTfCJB6ZiX"
      },
      "source": [
        "Utiliza a conversão `set` e `list` para remover os valores duplicados. Imprima o resultado."
      ]
    },
    {
      "cell_type": "code",
      "metadata": {
        "id": "ZvUGN-0n6joM",
        "colab": {
          "base_uri": "https://localhost:8080/"
        },
        "outputId": "09564d2e-b24d-42db-9d0b-16935a12262f"
      },
      "source": [
        "filmes_duplicados = list(set(filmes_duplicados))\n",
        "print(filmes_duplicados)"
      ],
      "execution_count": 38,
      "outputs": [
        {
          "output_type": "stream",
          "name": "stdout",
          "text": [
            "['Três homens em conflito', 'A lista de schindler', '12 Homens e uma sentença', 'O Senhor dos Anéis: A sociedade do Anel', 'O Senhor dos Anéis: O Retorno do Rei', 'O Poderoso Chefão II', 'O Poderoso Chefão', 'Um Sonho de Liberdade', 'Batman: O Cavaleiro das Trevas', 'Pulp Fiction']\n"
          ]
        }
      ]
    },
    {
      "cell_type": "markdown",
      "metadata": {
        "id": "ShkK35eQ6pAM"
      },
      "source": [
        "---"
      ]
    },
    {
      "cell_type": "markdown",
      "metadata": {
        "id": "EL_FzmxL6rTv"
      },
      "source": [
        "## 3\\. Dicionários"
      ]
    },
    {
      "cell_type": "markdown",
      "metadata": {
        "id": "i8l0gFqRCpfT"
      },
      "source": [
        "Repita os exercícios da parte 1 (listas). Os elementos da lista `filmes` devem ser dicionários no seguinte formato: `{'nome': <nome-do-filme>, 'ano': <ano do filme>}, 'sinopse': <sinopse do filme>}`."
      ]
    },
    {
      "cell_type": "code",
      "source": [
        "todos_os_filmes = []\n",
        "\n",
        "filme1 = {'nome': 'Um Sonho de Liberdade', 'ano': 1994, 'sinopse': 'Dois homens presos se reúnem ao longo de vários anos, encontrando consolo e eventual redenção através de atos de decência comum.'}\n",
        "filme2 = {'nome': 'O Poderoso Chefão', 'ano': 1972, 'sinopse': 'O patriarca idoso de uma dinastia do crime organizado transfere o controle de seu império clandestino para seu filho relutante.'}\n",
        "filme3 = {'nome': 'Batman: O Cavaleiro das Trevas', 'ano': 2008, 'sinopse': 'Quando a ameaça conhecida como O Coringa surge de seu passado, causa estragos e caos nas pessoas de Gotham. O Cavaleiro das Trevas deve aceitar um dos maiores testes para combater a injustiça.'}\n",
        "filme4 = {'nome': 'O Poderoso Chefão II', 'ano': 1974, 'sinopse': 'Em 1950, Michael Corleone, agora à frente da família, tenta expandir o negócio do crime a Las Vegas, Los Angeles e Cuba. Paralelamente, é revelada a história de Vito Corleone, e de como saiu da Sicília e chegou a Nova Iorque.'}\n",
        "filme5 = {'nome': '12 Homens e uma Sentença', 'ano': 1957, 'sinopse': 'O julgamento de um assassinato em Nova Iorque é frustrado por um único membro, cujo ceticismo força o júri a considerar cuidadosamente as evidências antes de dar o veredito.'}\n",
        "filme6 = {'nome': 'A Lista de Schindler', 'ano': 1993, 'sinopse': 'Na Polônia ocupada pelos alemães durante a Segunda Guerra Mundial, o industrial Oskar Schindler começa a ser preocupar com seus trabalhadores judeus depois de testemunhar sua perseguição pelos nazistas.'}\n",
        "filme7 = {'nome': 'O Senhor dos Anéis: O retorno do Rei', 'ano': 2003, 'sinopse': 'Gandalf e Aragorn lideram o Mundo dos Homens contra o exército de Sauron para desviar o olhar de Frodo e Sam quando eles se aproximam á Montanha da Perdição com o Um Anel.'}\n",
        "filme8 = {'nome': 'Pulp Fiction', 'ano': 1994, 'sinopse': 'As vidas de dois assassinos da máfia, um boxeador, um gângster e sua esposa, e um par de bandidos se entrelaçam em quatro histórias de violência e redenção.'}\n",
        "filme9 = {'nome': 'O Senhor dos Anéis: A Sociedade do Anel', 'ano': 2001, 'sinopse': 'Um manso hobbit do Condado e oito companheiros partem em uma jornada para destruir o poderoso Um Anel e salvar a Terra-média das Trevas.'}\n",
        "filme10 = {'nome': 'Três Homens em Conflito', 'ano': 1966, 'sinopse': 'Um impostor se junta com dois homens para encontrar fortuna num remoto cemitério'}\n",
        "\n",
        "todos_os_filmes.append(filme1)\n",
        "todos_os_filmes.append(filme2)\n",
        "todos_os_filmes.append(filme3)\n",
        "todos_os_filmes.append(filme4)\n",
        "todos_os_filmes.append(filme5)\n",
        "todos_os_filmes.append(filme6)\n",
        "todos_os_filmes.append(filme7)\n",
        "todos_os_filmes.append(filme8)\n",
        "todos_os_filmes.append(filme9)\n",
        "todos_os_filmes.append(filme10)\n",
        "\n",
        "print(todos_os_filmes)"
      ],
      "metadata": {
        "colab": {
          "base_uri": "https://localhost:8080/"
        },
        "id": "yvw3sNtfZMRr",
        "outputId": "25dd2c31-1277-4155-b129-9ffe6343422c"
      },
      "execution_count": 57,
      "outputs": [
        {
          "output_type": "stream",
          "name": "stdout",
          "text": [
            "[{'nome': 'Um Sonho de Liberdade', 'ano': 1994, 'sinopse': 'Dois homens presos se reúnem ao longo de vários anos, encontrando consolo e eventual redenção através de atos de decência comum.'}, {'nome': 'O Poderoso Chefão', 'ano': 1972, 'sinopse': 'O patriarca idoso de uma dinastia do crime organizado transfere o controle de seu império clandestino para seu filho relutante.'}, {'nome': 'Batman: O Cavaleiro das Trevas', 'ano': 2008, 'sinopse': 'Quando a ameaça conhecida como O Coringa surge de seu passado, causa estragos e caos nas pessoas de Gotham. O Cavaleiro das Trevas deve aceitar um dos maiores testes para combater a injustiça.'}, {'nome': 'O Poderoso Chefão II', 'ano': 1974, 'sinopse': 'Em 1950, Michael Corleone, agora à frente da família, tenta expandir o negócio do crime a Las Vegas, Los Angeles e Cuba. Paralelamente, é revelada a história de Vito Corleone, e de como saiu da Sicília e chegou a Nova Iorque.'}, {'nome': '12 Homens e uma Sentença', 'ano': 1957, 'sinopse': 'O julgamento de um assassinato em Nova Iorque é frustrado por um único membro, cujo ceticismo força o júri a considerar cuidadosamente as evidências antes de dar o veredito.'}, {'nome': 'A Lista de Schindler', 'ano': 1993, 'sinopse': 'Na Polônia ocupada pelos alemães durante a Segunda Guerra Mundial, o industrial Oskar Schindler começa a ser preocupar com seus trabalhadores judeus depois de testemunhar sua perseguição pelos nazistas.'}, {'nome': 'O Senhor dos Anéis: O retorno do Rei', 'ano': 2003, 'sinopse': 'Gandalf e Aragorn lideram o Mundo dos Homens contra o exército de Sauron para desviar o olhar de Frodo e Sam quando eles se aproximam á Montanha da Perdição com o Um Anel.'}, {'nome': 'Pulp Fiction', 'ano': 1994, 'sinopse': 'As vidas de dois assassinos da máfia, um boxeador, um gângster e sua esposa, e um par de bandidos se entrelaçam em quatro histórias de violência e redenção.'}, {'nome': 'O Senhor dos Anéis: A Sociedade do Anel', 'ano': 2001, 'sinopse': 'Um manso hobbit do Condado e oito companheiros partem em uma jornada para destruir o poderoso Um Anel e salvar a Terra-média das Trevas.'}, {'nome': 'Três Homens em Conflito', 'ano': 1966, 'sinopse': 'Um impostor se junta com dois homens para encontrar fortuna num remoto cemitério'}]\n"
          ]
        }
      ]
    }
  ]
}